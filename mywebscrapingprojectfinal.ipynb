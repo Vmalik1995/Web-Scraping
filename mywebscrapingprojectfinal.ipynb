{
 "cells": [
  {
   "cell_type": "markdown",
   "metadata": {},
   "source": [
    "# Scraping the 'Bestseller in Books' page of Amazon.com\n"
   ]
  },
  {
   "attachments": {},
   "cell_type": "markdown",
   "metadata": {},
   "source": [
    "# Web Scraping  Project with Python\n",
    "\n",
    "### Amazon is one of the largest online marketplaces in the United States, if not the world. Users can buy items from Amazon or a third-party seller on Amazon, or sell their own items. Orders are then delivered using common worldwide courier services. The company also sells its own line of technology items.\n",
    "\n",
    "The page https://www.amazon.in/gp/bestsellers/books/ provides the list of best seller books on amazon and we are going to scrape these bestseller books details like position, name, writer, price, rating and total reviews. Here we'll use python requests and beautifulsoup4 libraries to scrape this data.\n",
    "\n",
    "# **Outline of the project:**\n",
    "![Imgur](https://imgur.com/fTLsTdJ.png)\n",
    "\n",
    "1. Understanding the structure of Amazon.in/books/bestseller Webpage\n",
    "2. Installing and Importing required libraries\n",
    "3. Simulating the page and Extracting the URLs,Name,Author, Price of different books from website using 'BeautifulSoup'\n",
    "4. Accessing each label and building a list of above mentioned information\n",
    "5. Parsing the Top 50 books into 6 fields: Book Name,Book Writer,Rating,Reviews and Price.\n",
    "6. Storing the extracted data into a dictionary.\n",
    "7. Compiling all the data into a DataFrame using Pandas and saving the data into CSV file.\n"
   ]
  },
  {
   "attachments": {},
   "cell_type": "markdown",
   "metadata": {},
   "source": [
    "## What is Web Scraping ?\n",
    "'Web Scraping' is the process of extracting data from the web automatically.web scraping extracts underlying HTML code and the data stored in a database.\n",
    "\n",
    "This extracted data can be saved in a structured format in the the form of a CSV or JSON file and also in other formats\n",
    "![what_is_web_scraping.png](https://i.imgur.com/unjF9ob.png)\n",
    "\n",
    "## What is web scraping used for?\n",
    "Web scraping allows you to collect structured data. Structured data is just a way to say that the information is easy for computers to read or add to a database. Instead of relying on humans to read or process web pages, computers can rapidly use that data in lots of unexpected and useful ways."
   ]
  },
  {
   "attachments": {},
   "cell_type": "markdown",
   "metadata": {},
   "source": [
    "## Objective: Scraping the starting 4 pages of Bestselling Books Category of Amazon.in using BeautifulSoup as the html parser and storing into csv format file\n",
    "\n",
    "![imgur](https://imgur.com/x1cS6IK.jpg)\n",
    "\n"
   ]
  },
  {
   "cell_type": "code",
   "execution_count": 1,
   "metadata": {},
   "outputs": [],
   "source": [
    "!pip install jovian --upgrade --quiet"
   ]
  },
  {
   "cell_type": "code",
   "execution_count": 2,
   "metadata": {},
   "outputs": [],
   "source": [
    "import jovian"
   ]
  },
  {
   "cell_type": "code",
   "execution_count": 3,
   "metadata": {},
   "outputs": [
    {
     "data": {
      "application/javascript": [
       "window.require && require([\"base/js/namespace\"],function(Jupyter){Jupyter.notebook.save_checkpoint()})"
      ],
      "text/plain": [
       "<IPython.core.display.Javascript object>"
      ]
     },
     "metadata": {},
     "output_type": "display_data"
    },
    {
     "name": "stdout",
     "output_type": "stream",
     "text": [
      "[jovian] Updating notebook \"ghost-smith9557/mywebscrapingprojectfinal\" on https://jovian.ai\u001b[0m\n",
      "[jovian] Committed successfully! https://jovian.ai/ghost-smith9557/mywebscrapingprojectfinal\u001b[0m\n"
     ]
    },
    {
     "data": {
      "text/plain": [
       "'https://jovian.ai/ghost-smith9557/mywebscrapingprojectfinal'"
      ]
     },
     "execution_count": 3,
     "metadata": {},
     "output_type": "execute_result"
    }
   ],
   "source": [
    "# Execute this to save new versions of the notebook\n",
    "jovian.commit(project=\"MyWebScrapingProjectFinal\")"
   ]
  },
  {
   "cell_type": "markdown",
   "metadata": {},
   "source": [
    "# Steps to be Followed"
   ]
  },
  {
   "cell_type": "markdown",
   "metadata": {},
   "source": [
    "## 1. Download the webpage using 'requests,"
   ]
  },
  {
   "cell_type": "code",
   "execution_count": 4,
   "metadata": {},
   "outputs": [],
   "source": [
    "import requests"
   ]
  },
  {
   "cell_type": "code",
   "execution_count": 5,
   "metadata": {},
   "outputs": [],
   "source": [
    "topic_url = 'https://www.amazon.in/gp/bestsellers/books/?ie=UTF8&ref_=sv_ba_3'"
   ]
  },
  {
   "cell_type": "code",
   "execution_count": 6,
   "metadata": {},
   "outputs": [],
   "source": [
    "response = requests.get(topic_url)"
   ]
  },
  {
   "cell_type": "code",
   "execution_count": 7,
   "metadata": {},
   "outputs": [
    {
     "data": {
      "text/plain": [
       "requests.models.Response"
      ]
     },
     "execution_count": 7,
     "metadata": {},
     "output_type": "execute_result"
    }
   ],
   "source": [
    "type(response)"
   ]
  },
  {
   "cell_type": "markdown",
   "metadata": {},
   "source": [
    "### Here we checking the status code of the response by response.status_code. If HTTP status code will have a value between 200 to 299 then the request is successful and we got successful response."
   ]
  },
  {
   "cell_type": "code",
   "execution_count": 8,
   "metadata": {},
   "outputs": [
    {
     "data": {
      "text/plain": [
       "200"
      ]
     },
     "execution_count": 8,
     "metadata": {},
     "output_type": "execute_result"
    }
   ],
   "source": [
    "response.status_code"
   ]
  },
  {
   "cell_type": "code",
   "execution_count": 9,
   "metadata": {},
   "outputs": [],
   "source": [
    "page_content = response.text"
   ]
  },
  {
   "cell_type": "markdown",
   "metadata": {},
   "source": [
    "We will find out the number pf character the page has and will view first 1000 characters.."
   ]
  },
  {
   "cell_type": "code",
   "execution_count": 10,
   "metadata": {},
   "outputs": [
    {
     "data": {
      "text/plain": [
       "327907"
      ]
     },
     "execution_count": 10,
     "metadata": {},
     "output_type": "execute_result"
    }
   ],
   "source": [
    "len(page_content)"
   ]
  },
  {
   "cell_type": "code",
   "execution_count": 11,
   "metadata": {},
   "outputs": [
    {
     "data": {
      "text/plain": [
       "'<!doctype html><html lang=\"en-in\" class=\"a-no-js\" data-19ax5a9jf=\"dingo\"><!-- sp:feature:head-start '"
      ]
     },
     "execution_count": 11,
     "metadata": {},
     "output_type": "execute_result"
    }
   ],
   "source": [
    "page_content[:100]"
   ]
  },
  {
   "cell_type": "markdown",
   "metadata": {},
   "source": [
    "### Now we will save these characters which look like a HTML collection into a HTML file"
   ]
  },
  {
   "cell_type": "code",
   "execution_count": 12,
   "metadata": {},
   "outputs": [],
   "source": [
    "with open('amazon_bestseller_books.html', 'w', encoding = 'utf-8') as f:\n",
    "    f.write(page_content)"
   ]
  },
  {
   "cell_type": "markdown",
   "metadata": {},
   "source": [
    "### The above logic is combined in a function which gives the output as webpage"
   ]
  },
  {
   "cell_type": "code",
   "execution_count": 13,
   "metadata": {},
   "outputs": [],
   "source": [
    "def fetch_web_page(topic_url):\n",
    "    response=requests.get(topic_url)\n",
    "    if response.status_code != 200:\n",
    "        raise Exception('Something went wrong while fetching the web page')\n",
    "    return response.text"
   ]
  },
  {
   "cell_type": "markdown",
   "metadata": {},
   "source": [
    "### Now we will install the BeautifulSoup library to use html Parser"
   ]
  },
  {
   "cell_type": "code",
   "execution_count": 14,
   "metadata": {},
   "outputs": [],
   "source": [
    "# Install the library\n",
    "!pip install beautifulsoup4 --upgrade --quiet"
   ]
  },
  {
   "cell_type": "code",
   "execution_count": 15,
   "metadata": {},
   "outputs": [],
   "source": [
    "from bs4 import BeautifulSoup"
   ]
  },
  {
   "cell_type": "code",
   "execution_count": 16,
   "metadata": {},
   "outputs": [],
   "source": [
    "with open('amazon_bestseller_books.html', 'r') as f:\n",
    "    html_content = f.read()"
   ]
  },
  {
   "cell_type": "code",
   "execution_count": 18,
   "metadata": {},
   "outputs": [],
   "source": [
    "# doc = BeautifulSoup(html_content, 'html.parser')\n",
    "doc = BeautifulSoup(page_content)"
   ]
  },
  {
   "cell_type": "code",
   "execution_count": 19,
   "metadata": {},
   "outputs": [
    {
     "data": {
      "text/plain": [
       "bs4.BeautifulSoup"
      ]
     },
     "execution_count": 19,
     "metadata": {},
     "output_type": "execute_result"
    }
   ],
   "source": [
    "type(doc)"
   ]
  },
  {
   "cell_type": "markdown",
   "metadata": {},
   "source": [
    "## 2. Parse the HTML source code using 'BeautifulSoup'"
   ]
  },
  {
   "cell_type": "code",
   "execution_count": 20,
   "metadata": {},
   "outputs": [
    {
     "data": {
      "text/plain": [
       "'Amazon.in Bestsellers: The most popular items in Books'"
      ]
     },
     "execution_count": 20,
     "metadata": {},
     "output_type": "execute_result"
    }
   ],
   "source": [
    "doc.title.text"
   ]
  },
  {
   "cell_type": "code",
   "execution_count": 21,
   "metadata": {},
   "outputs": [],
   "source": [
    "def get_doc(page_content):\n",
    "    doc = BeautifulSoup(page_content)\n",
    "    return doc"
   ]
  },
  {
   "cell_type": "markdown",
   "metadata": {},
   "source": [
    "### In the below step we are using the doc method to search the tag by its id('div' tag using 'div id')"
   ]
  },
  {
   "cell_type": "code",
   "execution_count": 22,
   "metadata": {},
   "outputs": [
    {
     "data": {
      "text/plain": [
       "<div class=\"a-column a-span12 a-text-center _cDEzb_grid-column_2hIsc\" id=\"gridItemRoot\"><div class=\"a-cardui _cDEzb_grid-cell_1uMOS expandableGrid p13n-grid-content\" data-a-card-type=\"basic\" id=\"p13n-asin-index-30\"><div class=\"a-section zg-bdg-ctr\"><div class=\"a-section zg-bdg-body zg-bdg-clr-body aok-float-left\"><span class=\"zg-bdg-text\">#31</span></div><div class=\"a-section zg-bdg-tri zg-bdg-clr-tri aok-float-left\"></div></div><div class=\"zg-grid-general-faceout\"><div class=\"p13n-sc-uncoverable-faceout\" id=\"9354893899\"><a class=\"a-link-normal\" href=\"/Almanack-Naval-Ravikant-Wealth-Happiness/dp/9354893899/ref=zg_bs_books_sccl_1/000-0000000-0000000?psc=1\" role=\"link\" tabindex=\"-1\"><div class=\"a-section a-spacing-mini _cDEzb_noop_3Xbw5\"><img alt=\"The Almanack Of Naval Ravikant: A Guide to Wealth and Happiness\" class=\"a-dynamic-image p13n-sc-dynamic-image p13n-product-image\" data-a-dynamic-image='{\"https://images-eu.ssl-images-amazon.com/images/I/61fp0RQR+9L._AC_UL300_SR300,200_.jpg\":[300,200],\"https://images-eu.ssl-images-amazon.com/images/I/61fp0RQR+9L._AC_UL600_SR600,400_.jpg\":[600,400],\"https://images-eu.ssl-images-amazon.com/images/I/61fp0RQR+9L._AC_UL900_SR900,600_.jpg\":[900,600]}' height=\"200px\" src=\"https://images-eu.ssl-images-amazon.com/images/I/61fp0RQR+9L._AC_UL300_SR300,200_.jpg\" style=\"max-width:300px;max-height:200px\"/></div></a><a class=\"a-link-normal\" href=\"/Almanack-Naval-Ravikant-Wealth-Happiness/dp/9354893899/ref=zg_bs_books_sccl_1/000-0000000-0000000?psc=1\" role=\"link\"><span><div class=\"_cDEzb_p13n-sc-css-line-clamp-1_1Fn1y\">The Almanack Of Naval Ravikant: A Guide to Wealth and Happiness</div></span></a><div class=\"a-row a-size-small\"><a class=\"a-size-small a-link-child\" href=\"/Eric-Jorgenson/e/B07CKJFNGR/ref=zg_bs_books_bl_sccl_1/000-0000000-0000000\"><div class=\"_cDEzb_p13n-sc-css-line-clamp-1_1Fn1y\">Eric Jorgenson</div></a></div><div class=\"a-row\"><div class=\"a-icon-row\"><a class=\"a-link-normal\" href=\"/product-reviews/9354893899/ref=zg_bs_books_cr_sccl_1/000-0000000-0000000\" title=\"4.7 out of 5 stars\"><i class=\"a-icon a-icon-star-small a-star-small-4-5 aok-align-top\"><span class=\"a-icon-alt\">4.7 out of 5 stars</span></i> <span class=\"a-size-small\">11,887</span></a></div></div><div class=\"a-row a-size-small\"><span class=\"a-size-small a-color-secondary a-text-normal\">Paperback</span></div><div class=\"a-row\"><a class=\"a-link-normal\" href=\"/Almanack-Naval-Ravikant-Wealth-Happiness/dp/9354893899/ref=zg_bs_books_sccl_1/000-0000000-0000000?psc=1\" role=\"link\"><span class=\"a-color-secondary\">15 offers from <span class=\"a-size-base\"><span class=\"p13n-sc-price\">₹279.00</span></span></span></a></div></div></div></div></div>"
      ]
     },
     "execution_count": 22,
     "metadata": {},
     "output_type": "execute_result"
    }
   ],
   "source": [
    "divtag_doc = doc.find_all('div' , id ='gridItemRoot')\n",
    "divtag_doc[30]"
   ]
  },
  {
   "cell_type": "code",
   "execution_count": 26,
   "metadata": {},
   "outputs": [
    {
     "data": {
      "text/plain": [
       "<div class=\"a-column a-span12 a-text-center _cDEzb_grid-column_2hIsc\" id=\"gridItemRoot\"><div class=\"a-cardui _cDEzb_grid-cell_1uMOS expandableGrid p13n-grid-content\" data-a-card-type=\"basic\" id=\"p13n-asin-index-5\"><div class=\"a-section zg-bdg-ctr\"><div class=\"a-section zg-bdg-body zg-bdg-clr-body aok-float-left\"><span class=\"zg-bdg-text\">#6</span></div><div class=\"a-section zg-bdg-tri zg-bdg-clr-tri aok-float-left\"></div></div><div class=\"zg-grid-general-faceout\"><div class=\"p13n-sc-uncoverable-faceout\" id=\"1612681131\"><a class=\"a-link-normal\" href=\"/Rich-Dad-Poor-Middle-Anniversary/dp/1612681131/ref=zg_bs_books_sccl_6/000-0000000-0000000?psc=1\" role=\"link\" tabindex=\"-1\"><div class=\"a-section a-spacing-mini _cDEzb_noop_3Xbw5\"><img alt=\"Rich Dad Poor Dad : What The Rich Teach Their Kids About Money That The Poor And Middle Class Do Not!: (25th Anniversary Edit\" class=\"a-dynamic-image p13n-sc-dynamic-image p13n-product-image\" data-a-dynamic-image='{\"https://images-eu.ssl-images-amazon.com/images/I/81PuKheA8xL._AC_UL300_SR300,200_.jpg\":[300,200],\"https://images-eu.ssl-images-amazon.com/images/I/81PuKheA8xL._AC_UL600_SR600,400_.jpg\":[600,400],\"https://images-eu.ssl-images-amazon.com/images/I/81PuKheA8xL._AC_UL900_SR900,600_.jpg\":[900,600]}' height=\"200px\" src=\"https://images-eu.ssl-images-amazon.com/images/I/81PuKheA8xL._AC_UL300_SR300,200_.jpg\" style=\"max-width:300px;max-height:200px\"/></div></a><a class=\"a-link-normal\" href=\"/Rich-Dad-Poor-Middle-Anniversary/dp/1612681131/ref=zg_bs_books_sccl_6/000-0000000-0000000?psc=1\" role=\"link\"><span><div class=\"_cDEzb_p13n-sc-css-line-clamp-1_1Fn1y\">Rich Dad Poor Dad : What The Rich Teach Their Kids About Money That The Poor And Middle Class Do Not!: (25th Anniversary Edition)</div></span></a><div class=\"a-row a-size-small\"><a class=\"a-size-small a-link-child\" href=\"/Robert-T-Kiyosaki/e/B001H6GV90/ref=zg_bs_books_bl_sccl_6/000-0000000-0000000\"><div class=\"_cDEzb_p13n-sc-css-line-clamp-1_1Fn1y\">Robert T. Kiyosaki</div></a></div><div class=\"a-row\"><div class=\"a-icon-row\"><a class=\"a-link-normal\" href=\"/product-reviews/1612681131/ref=zg_bs_books_cr_sccl_6/000-0000000-0000000\" title=\"4.5 out of 5 stars\"><i class=\"a-icon a-icon-star-small a-star-small-4-5 aok-align-top\"><span class=\"a-icon-alt\">4.5 out of 5 stars</span></i> <span class=\"a-size-small\">14,986</span></a></div></div><div class=\"a-row a-size-small\"><span class=\"a-size-small a-color-secondary a-text-normal\">Mass Market Paperback</span></div><div class=\"a-row\"><a class=\"a-link-normal\" href=\"/Rich-Dad-Poor-Middle-Anniversary/dp/1612681131/ref=zg_bs_books_sccl_6/000-0000000-0000000?psc=1\" role=\"link\"><span class=\"a-color-secondary\">35 offers from <span class=\"a-size-base\"><span class=\"p13n-sc-price\">₹213.00</span></span></span></a></div></div></div></div></div>"
      ]
     },
     "execution_count": 26,
     "metadata": {},
     "output_type": "execute_result"
    }
   ],
   "source": [
    "books_info_doc = divtag_doc[5]\n",
    "books_info_doc"
   ]
  },
  {
   "cell_type": "code",
   "execution_count": 27,
   "metadata": {},
   "outputs": [
    {
     "data": {
      "text/plain": [
       "'6'"
      ]
     },
     "execution_count": 27,
     "metadata": {},
     "output_type": "execute_result"
    }
   ],
   "source": [
    "position = books_info_doc.find('span', class_=\"zg-bdg-text\").text.strip('#')\n",
    "position"
   ]
  },
  {
   "cell_type": "code",
   "execution_count": 28,
   "metadata": {},
   "outputs": [
    {
     "data": {
      "text/plain": [
       "'https://images-eu.ssl-images-amazon.com/images/I/81PuKheA8xL._AC_UL300_SR300,200_.jpg'"
      ]
     },
     "execution_count": 28,
     "metadata": {},
     "output_type": "execute_result"
    }
   ],
   "source": [
    "poster = books_info_doc.find('img')['src']\n",
    "poster"
   ]
  },
  {
   "cell_type": "code",
   "execution_count": 30,
   "metadata": {},
   "outputs": [],
   "source": [
    "bookname_and_writer = books_info_doc.find_all('div', class_= \"_cDEzb_p13n-sc-css-line-clamp-1_1Fn1y\")"
   ]
  },
  {
   "cell_type": "markdown",
   "metadata": {},
   "source": [
    "## 3. Extract position, name, writer, price, rating and total reviews from the page"
   ]
  },
  {
   "cell_type": "code",
   "execution_count": 31,
   "metadata": {},
   "outputs": [
    {
     "data": {
      "text/plain": [
       "[<div class=\"_cDEzb_p13n-sc-css-line-clamp-1_1Fn1y\">Rich Dad Poor Dad : What The Rich Teach Their Kids About Money That The Poor And Middle Class Do Not!: (25th Anniversary Edition)</div>,\n",
       " <div class=\"_cDEzb_p13n-sc-css-line-clamp-1_1Fn1y\">Robert T. Kiyosaki</div>]"
      ]
     },
     "execution_count": 31,
     "metadata": {},
     "output_type": "execute_result"
    }
   ],
   "source": [
    "bookname_and_writer"
   ]
  },
  {
   "cell_type": "code",
   "execution_count": 32,
   "metadata": {},
   "outputs": [],
   "source": [
    "book_name = bookname_and_writer[0].text"
   ]
  },
  {
   "cell_type": "code",
   "execution_count": 33,
   "metadata": {},
   "outputs": [
    {
     "data": {
      "text/plain": [
       "'Rich Dad Poor Dad : What The Rich Teach Their Kids About Money That The Poor And Middle Class Do Not!: (25th Anniversary Edition)'"
      ]
     },
     "execution_count": 33,
     "metadata": {},
     "output_type": "execute_result"
    }
   ],
   "source": [
    "book_name"
   ]
  },
  {
   "cell_type": "code",
   "execution_count": 34,
   "metadata": {},
   "outputs": [],
   "source": [
    "book_writer = bookname_and_writer[1].text"
   ]
  },
  {
   "cell_type": "code",
   "execution_count": 35,
   "metadata": {},
   "outputs": [
    {
     "data": {
      "text/plain": [
       "'Robert T. Kiyosaki'"
      ]
     },
     "execution_count": 35,
     "metadata": {},
     "output_type": "execute_result"
    }
   ],
   "source": [
    "book_writer"
   ]
  },
  {
   "cell_type": "markdown",
   "metadata": {},
   "source": [
    "### Putting the above logic into a function to give the writer and name of book"
   ]
  },
  {
   "cell_type": "code",
   "execution_count": 36,
   "metadata": {},
   "outputs": [],
   "source": [
    "def book_name_and_writer(books_info_doc):\n",
    "    bookname_and_writer = books_info_doc.find_all('div', class_=\"_cDEzb_p13n-sc-css-line-clamp-1_1Fn1y\")\n",
    "    if len(bookname_and_writer) < 2:\n",
    "        book_name_doc = books_info_doc.find_all('div', class_=\"_cDEzb_p13n-sc-css-line-clamp-2_EWgCb\")\n",
    "        book_name = '' if len(book_name_doc)<1 else book_name_doc[0].text\n",
    "        writer_name_doc = books_info_doc.find_all('div', class_=\"_cDEzb_p13n-sc-css-line-clamp-1_1Fn1y\")\n",
    "        writer = '' if len(writer_name_doc)<1 else writer_name_doc[0].text\n",
    "    else:\n",
    "        book_name = bookname_and_writer[0].text\n",
    "        writer = bookname_and_writer[1].text\n",
    "    return book_name, writer"
   ]
  },
  {
   "cell_type": "code",
   "execution_count": 37,
   "metadata": {},
   "outputs": [
    {
     "data": {
      "text/plain": [
       "('Rich Dad Poor Dad : What The Rich Teach Their Kids About Money That The Poor And Middle Class Do Not!: (25th Anniversary Edition)',\n",
       " 'Robert T. Kiyosaki')"
      ]
     },
     "execution_count": 37,
     "metadata": {},
     "output_type": "execute_result"
    }
   ],
   "source": [
    "book_name_and_writer(books_info_doc)"
   ]
  },
  {
   "cell_type": "markdown",
   "metadata": {},
   "source": [
    "### Finding the ratings and total reviews of books"
   ]
  },
  {
   "cell_type": "code",
   "execution_count": 38,
   "metadata": {},
   "outputs": [],
   "source": [
    "review_and_rating_doc = books_info_doc.find('div', class_=\"a-icon-row\")"
   ]
  },
  {
   "cell_type": "code",
   "execution_count": 39,
   "metadata": {},
   "outputs": [
    {
     "data": {
      "text/plain": [
       "<div class=\"a-icon-row\"><a class=\"a-link-normal\" href=\"/product-reviews/1612681131/ref=zg_bs_books_cr_sccl_6/000-0000000-0000000\" title=\"4.5 out of 5 stars\"><i class=\"a-icon a-icon-star-small a-star-small-4-5 aok-align-top\"><span class=\"a-icon-alt\">4.5 out of 5 stars</span></i> <span class=\"a-size-small\">14,986</span></a></div>"
      ]
     },
     "execution_count": 39,
     "metadata": {},
     "output_type": "execute_result"
    }
   ],
   "source": [
    "review_and_rating_doc"
   ]
  },
  {
   "cell_type": "code",
   "execution_count": 40,
   "metadata": {},
   "outputs": [],
   "source": [
    "rating = review_and_rating_doc.find('i').text.split(' ')[0]"
   ]
  },
  {
   "cell_type": "code",
   "execution_count": 41,
   "metadata": {},
   "outputs": [
    {
     "data": {
      "text/plain": [
       "'4.5'"
      ]
     },
     "execution_count": 41,
     "metadata": {},
     "output_type": "execute_result"
    }
   ],
   "source": [
    "rating"
   ]
  },
  {
   "cell_type": "code",
   "execution_count": 42,
   "metadata": {},
   "outputs": [],
   "source": [
    "reviews = review_and_rating_doc.find('span', class_=\"a-size-small\").text"
   ]
  },
  {
   "cell_type": "code",
   "execution_count": 43,
   "metadata": {},
   "outputs": [
    {
     "data": {
      "text/plain": [
       "'14,986'"
      ]
     },
     "execution_count": 43,
     "metadata": {},
     "output_type": "execute_result"
    }
   ],
   "source": [
    "reviews"
   ]
  },
  {
   "cell_type": "code",
   "execution_count": 44,
   "metadata": {},
   "outputs": [],
   "source": [
    "all_reviews = ''\n",
    "for i in reviews.split(','):\n",
    "    all_reviews += i"
   ]
  },
  {
   "cell_type": "code",
   "execution_count": 45,
   "metadata": {},
   "outputs": [
    {
     "data": {
      "text/plain": [
       "'14986'"
      ]
     },
     "execution_count": 45,
     "metadata": {},
     "output_type": "execute_result"
    }
   ],
   "source": [
    "all_reviews"
   ]
  },
  {
   "cell_type": "code",
   "execution_count": 46,
   "metadata": {},
   "outputs": [],
   "source": [
    "def reviews_and_ratings(books_info_doc):\n",
    "    '''\n",
    "        This function takes book document as input and extract rating and reviews of the books.\n",
    "    '''\n",
    "    reviews_and_ratings_doc = books_info_doc.find('div', class_=\"a-icon-row\")\n",
    "    if reviews_and_ratings_doc == None:\n",
    "        rating = ''\n",
    "        all_reviews = ''\n",
    "    else:\n",
    "        rating = reviews_and_ratings_doc.find('i').text.split(' ')[0]\n",
    "        reviews = reviews_and_ratings_doc.find('span', class_=\"a-size-small\").text\n",
    "        all_reviews = ''\n",
    "        for i in reviews.split(','):\n",
    "            all_reviews += i\n",
    "    return rating, all_reviews"
   ]
  },
  {
   "cell_type": "code",
   "execution_count": 47,
   "metadata": {},
   "outputs": [
    {
     "data": {
      "text/plain": [
       "('4.5', '14986')"
      ]
     },
     "execution_count": 47,
     "metadata": {},
     "output_type": "execute_result"
    }
   ],
   "source": [
    "reviews_and_ratings(books_info_doc)"
   ]
  },
  {
   "cell_type": "markdown",
   "metadata": {},
   "source": [
    "### Finding the Price of the book"
   ]
  },
  {
   "cell_type": "code",
   "execution_count": 48,
   "metadata": {},
   "outputs": [
    {
     "data": {
      "text/plain": [
       "'213.00'"
      ]
     },
     "execution_count": 48,
     "metadata": {},
     "output_type": "execute_result"
    }
   ],
   "source": [
    "price_doc = books_info_doc.find('span', class_=\"p13n-sc-price\")\n",
    "price = '' if price_doc == None else price_doc.text.strip('₹')\n",
    "price"
   ]
  },
  {
   "cell_type": "markdown",
   "metadata": {},
   "source": [
    "### Extracting book data from the webpage for one element to check the working"
   ]
  },
  {
   "cell_type": "code",
   "execution_count": 65,
   "metadata": {},
   "outputs": [],
   "source": [
    "def books_data(books_info_doc):\n",
    "    '''\n",
    "    This function takes a book item document as input and\n",
    "    extract all the information from the book and return it as a dictionary.\n",
    "    '''\n",
    "    position = books_info_doc.find('span', class_=\"zg-bdg-text\").text.strip('#')\n",
    "    poster = books_info_doc.find('img')['src']\n",
    "    name, writer = book_name_and_writer(books_info_doc)\n",
    "    rating, review = reviews_and_ratings(books_info_doc)\n",
    "    price_doc = books_info_doc.find('span', class_=\"p13n-sc-price\")\n",
    "    price = '' if price_doc == None else price_doc.text.strip('₹')\n",
    "    return {\n",
    "        'book_rank' : position,\n",
    "        'book_poster' : poster,\n",
    "        'book_name' : name,\n",
    "        'book_writer' : writer,\n",
    "        'book_rating' : rating,\n",
    "        'book_review' : review,\n",
    "        'book_price' : price\n",
    "    }"
   ]
  },
  {
   "cell_type": "code",
   "execution_count": 66,
   "metadata": {
    "scrolled": true
   },
   "outputs": [
    {
     "data": {
      "text/plain": [
       "{'book_rank': '6',\n",
       " 'book_poster': 'https://images-eu.ssl-images-amazon.com/images/I/81PuKheA8xL._AC_UL300_SR300,200_.jpg',\n",
       " 'book_name': 'Rich Dad Poor Dad : What The Rich Teach Their Kids About Money That The Poor And Middle Class Do Not!: (25th Anniversary Edition)',\n",
       " 'book_writer': 'Robert T. Kiyosaki',\n",
       " 'book_rating': '4.5',\n",
       " 'book_review': '14986',\n",
       " 'book_price': '213.00'}"
      ]
     },
     "execution_count": 66,
     "metadata": {},
     "output_type": "execute_result"
    }
   ],
   "source": [
    "book_data(books_info_doc)"
   ]
  },
  {
   "cell_type": "markdown",
   "metadata": {},
   "source": [
    "## 4. Store the extracted information into Python lists and dictionary"
   ]
  },
  {
   "cell_type": "code",
   "execution_count": 67,
   "metadata": {},
   "outputs": [],
   "source": [
    "def find_all_book_data(books_info_doc):\n",
    "    '''\n",
    "    This function takes list of the book document as input and \n",
    "    extract all the information from all books and store it into a dictionary of lists and return it.\n",
    "    '''\n",
    "    book_dict = {\n",
    "        'book_rank' : [],\n",
    "        'book_poster' : [],\n",
    "        'book_name' : [],\n",
    "        'book_writer' : [],\n",
    "        'book_rating' : [],\n",
    "        'book_review' : [],\n",
    "        'book_price' : []\n",
    "    }\n",
    "    \n",
    "    for book in books_info_doc:\n",
    "        book_data = books_data(book)\n",
    "        book_dict['book_rank'].append(book_data['book_rank'])\n",
    "        book_dict['book_poster'].append(book_data['book_poster'])\n",
    "        book_dict['book_name'].append(book_data['book_name'])\n",
    "        book_dict['book_writer'].append(book_data['book_writer'])\n",
    "        book_dict['book_rating'].append(book_data['book_rating'])\n",
    "        book_dict['book_review'].append(book_data['book_review'])\n",
    "        book_dict['book_price'].append(book_data['book_price'])\n",
    "        \n",
    "    return book_dict"
   ]
  },
  {
   "cell_type": "code",
   "execution_count": 68,
   "metadata": {},
   "outputs": [
    {
     "data": {
      "text/plain": [
       "{'book_rank': ['1',\n",
       "  '2',\n",
       "  '3',\n",
       "  '4',\n",
       "  '5',\n",
       "  '6',\n",
       "  '7',\n",
       "  '8',\n",
       "  '9',\n",
       "  '10',\n",
       "  '11',\n",
       "  '12',\n",
       "  '13',\n",
       "  '14',\n",
       "  '15',\n",
       "  '16',\n",
       "  '17',\n",
       "  '18',\n",
       "  '19',\n",
       "  '20',\n",
       "  '21',\n",
       "  '22',\n",
       "  '23',\n",
       "  '24',\n",
       "  '25',\n",
       "  '26',\n",
       "  '27',\n",
       "  '28',\n",
       "  '29',\n",
       "  '30',\n",
       "  '31',\n",
       "  '32',\n",
       "  '33',\n",
       "  '34',\n",
       "  '35',\n",
       "  '36',\n",
       "  '37',\n",
       "  '38',\n",
       "  '39',\n",
       "  '40',\n",
       "  '41',\n",
       "  '42',\n",
       "  '43',\n",
       "  '44',\n",
       "  '45',\n",
       "  '46',\n",
       "  '47',\n",
       "  '48',\n",
       "  '49',\n",
       "  '50'],\n",
       " 'book_poster': ['https://images-eu.ssl-images-amazon.com/images/I/71B4h-dSVzL._AC_UL300_SR300,200_.jpg',\n",
       "  'https://images-eu.ssl-images-amazon.com/images/I/71g2ednj0JL._AC_UL300_SR300,200_.jpg',\n",
       "  'https://images-eu.ssl-images-amazon.com/images/I/814L+vq01mL._AC_UL300_SR300,200_.jpg',\n",
       "  'https://images-eu.ssl-images-amazon.com/images/I/81BvqTpXlFL._AC_UL300_SR300,200_.jpg',\n",
       "  'https://images-eu.ssl-images-amazon.com/images/I/91bYsX41DVL._AC_UL300_SR300,200_.jpg',\n",
       "  'https://images-eu.ssl-images-amazon.com/images/I/81PuKheA8xL._AC_UL300_SR300,200_.jpg',\n",
       "  'https://images-eu.ssl-images-amazon.com/images/I/81FummIc2eL._AC_UL300_SR300,200_.jpg',\n",
       "  'https://images-eu.ssl-images-amazon.com/images/I/81jMX+93kaL._AC_UL300_SR300,200_.jpg',\n",
       "  'https://images-eu.ssl-images-amazon.com/images/I/81IPyd50ICL._AC_UL300_SR300,200_.jpg',\n",
       "  'https://images-eu.ssl-images-amazon.com/images/I/91A8YoZLbhL._AC_UL300_SR300,200_.jpg',\n",
       "  'https://images-eu.ssl-images-amazon.com/images/I/81M3nBZheML._AC_UL300_SR300,200_.jpg',\n",
       "  'https://images-eu.ssl-images-amazon.com/images/I/81N7FmJhbhL._AC_UL300_SR300,200_.jpg',\n",
       "  'https://images-eu.ssl-images-amazon.com/images/I/71UwSHSZRnS._AC_UL300_SR300,200_.jpg',\n",
       "  'https://images-eu.ssl-images-amazon.com/images/I/61ZPDQOjw-L._AC_UL300_SR300,200_.jpg',\n",
       "  'https://images-eu.ssl-images-amazon.com/images/I/711c-uf6AFL._AC_UL300_SR300,200_.jpg',\n",
       "  'https://images-eu.ssl-images-amazon.com/images/I/61SYAacxaVL._AC_UL300_SR300,200_.jpg',\n",
       "  'https://images-eu.ssl-images-amazon.com/images/I/81ztuNlyeSL._AC_UL300_SR300,200_.jpg',\n",
       "  'https://images-eu.ssl-images-amazon.com/images/I/71ePXM6nOdL._AC_UL300_SR300,200_.jpg',\n",
       "  'https://images-eu.ssl-images-amazon.com/images/I/81GC4vTxEdL._AC_UL300_SR300,200_.jpg',\n",
       "  'https://images-eu.ssl-images-amazon.com/images/I/81jv44QdNwL._AC_UL300_SR300,200_.jpg',\n",
       "  'https://images-eu.ssl-images-amazon.com/images/I/81s0B6NYXML._AC_UL300_SR300,200_.jpg',\n",
       "  'https://images-eu.ssl-images-amazon.com/images/I/61ZNAnIrwwL._AC_UL300_SR300,200_.jpg',\n",
       "  'https://images-eu.ssl-images-amazon.com/images/I/71sBtM3Yi5L._AC_UL300_SR300,200_.jpg',\n",
       "  'https://images-eu.ssl-images-amazon.com/images/I/310ILDQr5lL._AC_UL300_SR300,200_.jpg',\n",
       "  'https://images-eu.ssl-images-amazon.com/images/I/61kRkfsIMUL._AC_UL300_SR300,200_.jpg',\n",
       "  'https://images-eu.ssl-images-amazon.com/images/I/61nTspM+BYL._AC_UL300_SR300,200_.jpg',\n",
       "  'https://images-eu.ssl-images-amazon.com/images/I/41l1SqjuqJL._AC_UL300_SR300,200_.jpg',\n",
       "  'https://images-eu.ssl-images-amazon.com/images/I/61q9y4rkugL._AC_UL300_SR300,200_.jpg',\n",
       "  'https://images-eu.ssl-images-amazon.com/images/I/813uPMOnskL._AC_UL300_SR300,200_.jpg',\n",
       "  'https://images-eu.ssl-images-amazon.com/images/I/618XGVFYlwL._AC_UL300_SR300,200_.jpg',\n",
       "  'https://images-eu.ssl-images-amazon.com/images/I/61fp0RQR+9L._AC_UL300_SR300,200_.jpg',\n",
       "  'https://images-eu.ssl-images-amazon.com/images/I/91+T1TAxkKL._AC_UL300_SR300,200_.jpg',\n",
       "  'https://images-eu.ssl-images-amazon.com/images/I/81itaZBhn-L._AC_UL300_SR300,200_.jpg',\n",
       "  'https://images-eu.ssl-images-amazon.com/images/I/81CYo8zl01L._AC_UL300_SR300,200_.jpg',\n",
       "  'https://images-eu.ssl-images-amazon.com/images/I/7175YpTSa7L._AC_UL300_SR300,200_.jpg',\n",
       "  'https://images-eu.ssl-images-amazon.com/images/I/71Pl6DkHW4L._AC_UL300_SR300,200_.jpg',\n",
       "  'https://images-eu.ssl-images-amazon.com/images/I/71k7V0QvcdL._AC_UL300_SR300,200_.jpg',\n",
       "  'https://images-eu.ssl-images-amazon.com/images/I/51emmAYEgqL._AC_UL300_SR300,200_.jpg',\n",
       "  'https://images-eu.ssl-images-amazon.com/images/I/51XetmGzBeL._AC_UL300_SR300,200_.jpg',\n",
       "  'https://images-eu.ssl-images-amazon.com/images/I/61TkOFwquPL._AC_UL300_SR300,200_.jpg',\n",
       "  'https://images-eu.ssl-images-amazon.com/images/I/81n2MduZb0L._AC_UL300_SR300,200_.jpg',\n",
       "  'https://images-eu.ssl-images-amazon.com/images/I/81PdkxXJObL._AC_UL300_SR300,200_.jpg',\n",
       "  'https://images-eu.ssl-images-amazon.com/images/I/51oVTRsjcqL._AC_UL300_SR300,200_.jpg',\n",
       "  'https://images-eu.ssl-images-amazon.com/images/I/81tEgsxpNZS._AC_UL300_SR300,200_.jpg',\n",
       "  'https://images-eu.ssl-images-amazon.com/images/I/51HLIzx9Q4L._AC_UL300_SR300,200_.jpg',\n",
       "  'https://images-eu.ssl-images-amazon.com/images/I/71t4GuxLCuL._AC_UL300_SR300,200_.jpg',\n",
       "  'https://images-eu.ssl-images-amazon.com/images/I/81a-xDzVSjL._AC_UL300_SR300,200_.jpg',\n",
       "  'https://images-eu.ssl-images-amazon.com/images/I/61Lf1zz-oML._AC_UL300_SR300,200_.jpg',\n",
       "  'https://images-eu.ssl-images-amazon.com/images/I/81NyYpjD-KL._AC_UL300_SR300,200_.jpg',\n",
       "  'https://images-eu.ssl-images-amazon.com/images/I/61Dt7qlKDbL._AC_UL300_SR300,200_.jpg'],\n",
       " 'book_name': ['Energize Your Mind: Learn the Art of Mastering Your Thoughts, Feelings and Emotions',\n",
       "  'The Psychology of Money',\n",
       "  'Ikigai: The Japanese secret to a long and happy life',\n",
       "  'Doglapan: The Hard Truth about Life and Start-Ups',\n",
       "  'Atomic Habits: The life-changing million copy bestseller',\n",
       "  'Rich Dad Poor Dad : What The Rich Teach Their Kids About Money That The Poor And Middle Class Do Not!: (25th Anniversary Edition)',\n",
       "  'It Starts With Us',\n",
       "  'Oswaal CBSE English, Science, Social Science & Math Standard Class 10 Sample Question Paper (Set of 4 Books) for 2023 Board Exam (based on CBSE Sample Paper released on 16th September)',\n",
       "  \"KVS PEDAGOGY MASTER BOOK (BILINGUAL) THEORY with PRACTICE MCQ's\",\n",
       "  'Educart CBSE Class 10 Sample Paper 2023 Bundle - Science, SST, English and Mathematics Standard (4 books) 2022-23 Edubook',\n",
       "  'BlackBook of General Awareness January 2023 by Nikhil Gupta',\n",
       "  \"Life's Amazing Secrets: How to Find Balance and Purpose in Your Life | Inspirational Zen book on motivation, self-development & healthy living\",\n",
       "  'The Power of Your Subconscious Mind',\n",
       "  'Do It Today: Overcome Procrastination, Improve Productivity',\n",
       "  'My First Library: Boxset of 10 Board Books for Kids',\n",
       "  'Examcart KVS PRT Pedagogy English Medium Textbook - Perspective on Education & Leadership for 2023 Exam (Prateek Shivalik)',\n",
       "  'Oswaal CBSE Sample Question Papers Class 10 Science Book for 2023 Board Exam (based on CBSE Sample Paper released on 16th September)',\n",
       "  'Indian Polity ( English| 6th Revised Edition) | UPSC | Civil Services Exam | State Administrative Exams',\n",
       "  'Oswaal CBSE Sample Question Papers Class 10 Mathematics Standard Book for 2023 Board Exam (based on CBSE Sample Paper released on 16th September)',\n",
       "  \"Grandma's Bag of Stories: Collection of 20+ Illustrated short stories, traditional Indian folk tales for all ages for children of all ages by Sudha Murty\",\n",
       "  'It Ends With Us: A Novel: Volume 1',\n",
       "  'Eat That Frog!: 21 Great Ways to Stop Procrastinating and Get More Done in Less Time',\n",
       "  'The Power of Your Subconscious Mind',\n",
       "  'Brijbhoomi Books And Handicrafts® Bhagavad Gita: Yatharoop',\n",
       "  'DO EPIC SHIT',\n",
       "  \"Man's Search For Meaning: The classic tribute to hope from the Holocaust\",\n",
       "  'Get Epic Shit Done',\n",
       "  'Examcart KVS PRT Textbook Maths & EVS Environmental Science for 2023 Exam (Prateek Shivalik | English Medium)',\n",
       "  'You Can',\n",
       "  'How to Win Friends\\xa0and Influence People',\n",
       "  'The Almanack Of Naval Ravikant: A Guide to Wealth and Happiness',\n",
       "  'War of Lanka (Ram Chandra Series Book 4)',\n",
       "  'Oswaal CBSE Sample Question Papers Class 10 Social Science Book for 2023 Board Exam (based on CBSE Sample Paper released on 16th September)',\n",
       "  'Educart CBSE Class 10 SCIENCE Sample Papers 2023 (With Exclusive Topper Answers and Marks breakdown for 2022-23) Edubook',\n",
       "  'Brain Activity Book for Kids - 200+ Activities for Age 3+',\n",
       "  '28 Years UPSC Civil Services IAS Prelims Topic-wise Solved Papers 1 & 2 (1995 - 2022) 13th Edition',\n",
       "  'The Courage To Be Disliked: How to free yourself, change your life and achieve real happiness (Courage To series)',\n",
       "  'UGC NET /SET/JRF Paper 1 Teaching and Research Aptitude - 2019- 2021 fully solved papers including Oct- Dec 2021 | Includes National Education Policy 2020| Sixth Edition| By Pearson',\n",
       "  'Examcart KVS Study Guide Book For 2023 Exams in English',\n",
       "  'DEEP WORK: RULES FOR FOCUSED SUCCESS IN A DISTRACTED WORLD',\n",
       "  'Educart CBSE Class 10 Final Revision Book for 2023 - Maths Standard + Science + SST + English (Includes access to All India Offline Pre-board Exam 2022-23)',\n",
       "  'The Boy, The Mole, The Fox and The Horse',\n",
       "  'THE SILENT PATIENT',\n",
       "  'As a Man Thinketh',\n",
       "  'CBSE Physics Chapterwise Solved Papers Class 12th for 2023 Exam (As per Latest syllabus 2022-23)',\n",
       "  'The Subtle Art of Not Giving a F*ck: A Counterintuitive Approach to Living a Good Life',\n",
       "  'BlackBook of English Vocabulary January 2022',\n",
       "  'Examcart KVS PRT Pedagogy Hindi Medium Textbook - Perspective on Education & Leadership for 2023 Exam (Prateek Shivalik)',\n",
       "  'Oswaal CBSE Chapterwise & Topicwise Question Bank Class 10 Science Book (For 2023 Exam)',\n",
       "  'Combo Books of \"It Starts With Us & It Ends With Us\"'],\n",
       " 'book_writer': ['Gaur Gopal Das',\n",
       "  'Morgan Housel',\n",
       "  'Héctor García',\n",
       "  'Ashneer Grover',\n",
       "  'James Clear',\n",
       "  'Robert T. Kiyosaki',\n",
       "  'Colleen Hoover',\n",
       "  'Oswaal Editorial Board',\n",
       "  'Rohit Vaidwan',\n",
       "  'Educart',\n",
       "  'Nikhil kr Gupta',\n",
       "  'Gaur Gopal Das',\n",
       "  'Joseph Murphy',\n",
       "  'Darius Foroux',\n",
       "  'Wonder House Books',\n",
       "  'Examcart Experts',\n",
       "  'Oswaal Editorial Board',\n",
       "  'M Laxmikanth',\n",
       "  'Oswaal Editorial Board',\n",
       "  'Sudha Murty',\n",
       "  'Colleen Hoover',\n",
       "  'Brian Tracy',\n",
       "  'Joseph Murphy',\n",
       "  'Brijbhoomi Books And Handicrafts',\n",
       "  'Ankur Warikoo',\n",
       "  'Viktor E Frankl',\n",
       "  'Ankur Warikoo',\n",
       "  'Examcart Experts',\n",
       "  'George Matthew Adams',\n",
       "  'Dale Carnegie',\n",
       "  'Eric Jorgenson',\n",
       "  'Amish Tripathi',\n",
       "  'Oswaal Editorial Board',\n",
       "  'Educart',\n",
       "  'Maple Press',\n",
       "  'Mrunal Patel',\n",
       "  'Ichiro Kishimi and Fumitake Koga',\n",
       "  'KVS Madaan',\n",
       "  'Examcart Experts',\n",
       "  'Cal Newport',\n",
       "  'Educart',\n",
       "  'Charlie Mackesy',\n",
       "  'Alex Michaelides',\n",
       "  'James Allen',\n",
       "  'SK Singh',\n",
       "  'Mark Manson',\n",
       "  'Nikhil K Gupta',\n",
       "  'Examcart Experts',\n",
       "  'Oswaal Editorial Board',\n",
       "  'Author Colleen Hoover'],\n",
       " 'book_rating': ['',\n",
       "  '4.6',\n",
       "  '4.6',\n",
       "  '4.3',\n",
       "  '4.6',\n",
       "  '4.5',\n",
       "  '4.4',\n",
       "  '4.4',\n",
       "  '',\n",
       "  '4.3',\n",
       "  '5.0',\n",
       "  '4.6',\n",
       "  '4.5',\n",
       "  '4.5',\n",
       "  '4.5',\n",
       "  '4.6',\n",
       "  '4.3',\n",
       "  '4.5',\n",
       "  '4.4',\n",
       "  '4.6',\n",
       "  '4.5',\n",
       "  '4.6',\n",
       "  '4.5',\n",
       "  '4.8',\n",
       "  '4.5',\n",
       "  '4.5',\n",
       "  '4.2',\n",
       "  '5.0',\n",
       "  '4.3',\n",
       "  '4.5',\n",
       "  '4.7',\n",
       "  '4.3',\n",
       "  '4.6',\n",
       "  '4.4',\n",
       "  '4.5',\n",
       "  '4.3',\n",
       "  '4.6',\n",
       "  '4.4',\n",
       "  '5.0',\n",
       "  '4.5',\n",
       "  '4.3',\n",
       "  '4.8',\n",
       "  '4.5',\n",
       "  '4.4',\n",
       "  '4.2',\n",
       "  '4.5',\n",
       "  '4.5',\n",
       "  '',\n",
       "  '4.4',\n",
       "  '3.6'],\n",
       " 'book_review': ['',\n",
       "  '45289',\n",
       "  '40204',\n",
       "  '394',\n",
       "  '61942',\n",
       "  '14986',\n",
       "  '59538',\n",
       "  '173',\n",
       "  '',\n",
       "  '213',\n",
       "  '3',\n",
       "  '18947',\n",
       "  '64843',\n",
       "  '3601',\n",
       "  '65641',\n",
       "  '24',\n",
       "  '126',\n",
       "  '3425',\n",
       "  '126',\n",
       "  '17121',\n",
       "  '182939',\n",
       "  '6883',\n",
       "  '64843',\n",
       "  '14575',\n",
       "  '7838',\n",
       "  '51398',\n",
       "  '157',\n",
       "  '21',\n",
       "  '2580',\n",
       "  '85472',\n",
       "  '11887',\n",
       "  '2822',\n",
       "  '83',\n",
       "  '93',\n",
       "  '2437',\n",
       "  '821',\n",
       "  '6752',\n",
       "  '1055',\n",
       "  '9',\n",
       "  '15543',\n",
       "  '176',\n",
       "  '63170',\n",
       "  '138664',\n",
       "  '10082',\n",
       "  '132',\n",
       "  '81688',\n",
       "  '957',\n",
       "  '',\n",
       "  '684',\n",
       "  '4'],\n",
       " 'book_price': ['190.00',\n",
       "  '140.00',\n",
       "  '225.00',\n",
       "  '239.50',\n",
       "  '416.00',\n",
       "  '213.00',\n",
       "  '190.00',\n",
       "  '876.90',\n",
       "  '425.00',\n",
       "  '640.00',\n",
       "  '420.00',\n",
       "  '153.00',\n",
       "  '105.00',\n",
       "  '98.00',\n",
       "  '399.00',\n",
       "  '164.00',\n",
       "  '209.00',\n",
       "  '599.00',\n",
       "  '142.78',\n",
       "  '162.00',\n",
       "  '269.00',\n",
       "  '169.00',\n",
       "  '104.00',\n",
       "  '195.00',\n",
       "  '160.00',\n",
       "  '178.00',\n",
       "  '318.00',\n",
       "  '108.00',\n",
       "  '99.00',\n",
       "  '27.00',\n",
       "  '279.00',\n",
       "  '305.00',\n",
       "  '225.00',\n",
       "  '150.30',\n",
       "  '100.00',\n",
       "  '370.00',\n",
       "  '311.00',\n",
       "  '295.00',\n",
       "  '363.00',\n",
       "  '192.00',\n",
       "  '457.00',\n",
       "  '360.00',\n",
       "  '201.00',\n",
       "  '69.00',\n",
       "  '191.00',\n",
       "  '272.00',\n",
       "  '237.00',\n",
       "  '196.00',\n",
       "  '465.00',\n",
       "  '269.00']}"
      ]
     },
     "execution_count": 68,
     "metadata": {},
     "output_type": "execute_result"
    }
   ],
   "source": [
    "find_all_book_data(divtag_doc)"
   ]
  },
  {
   "cell_type": "markdown",
   "metadata": {},
   "source": [
    "## 5. Save the extracted information into a CSV file"
   ]
  },
  {
   "cell_type": "code",
   "execution_count": 75,
   "metadata": {},
   "outputs": [],
   "source": [
    "def scrape_amazon_books(page, path):\n",
    "    '''\n",
    "        In this function we pass how many pages we want to extract as 'pages'\n",
    "        and second path of the csv file in which we want to store the books data.\n",
    "        This function simply extract all the d\n",
    "        \n",
    "    '''\n",
    "    import pandas as pd\n",
    "    book_documents = []\n",
    "    for page in range(1, page+1):\n",
    "        topic_url = 'https://www.amazon.in/gp/bestsellers/books/?ie=UTF8&ref_=sv_ba_3'\n",
    "        if page > 1:\n",
    "            topic_url =f'https://www.amazon.in/gp/bestsellers/books/?ie=UTF8&ref_=sv_ba_3{page}?ie=UTF8&pg={page}'\n",
    "            \n",
    "        page_content = fetch_web_page(topic_url)\n",
    "        doc = get_doc(page_content)\n",
    "        divtag_doc = doc.find_all('div', id='gridItemRoot')\n",
    "        book_documents += divtag_doc\n",
    "    books_data = find_all_book_data(book_documents)\n",
    "    bestseller_df = pd.DataFrame(books_data)\n",
    "    bestseller_df.to_csv(path, index=False)"
   ]
  },
  {
   "cell_type": "code",
   "execution_count": 79,
   "metadata": {},
   "outputs": [],
   "source": [
    "scrape_amazon_books(1,'amazon_bestseller_books.csv')"
   ]
  },
  {
   "cell_type": "markdown",
   "metadata": {},
   "source": [
    "### Reading the CSV file through .read() method using pandas"
   ]
  },
  {
   "cell_type": "code",
   "execution_count": null,
   "metadata": {},
   "outputs": [],
   "source": [
    "import pandas as pd"
   ]
  },
  {
   "cell_type": "markdown",
   "metadata": {},
   "source": [
    "## 6. At the end of this project we'll have a CSV file in following format: .csv-file"
   ]
  },
  {
   "cell_type": "code",
   "execution_count": 81,
   "metadata": {},
   "outputs": [
    {
     "data": {
      "text/html": [
       "<div>\n",
       "<style scoped>\n",
       "    .dataframe tbody tr th:only-of-type {\n",
       "        vertical-align: middle;\n",
       "    }\n",
       "\n",
       "    .dataframe tbody tr th {\n",
       "        vertical-align: top;\n",
       "    }\n",
       "\n",
       "    .dataframe thead th {\n",
       "        text-align: right;\n",
       "    }\n",
       "</style>\n",
       "<table border=\"1\" class=\"dataframe\">\n",
       "  <thead>\n",
       "    <tr style=\"text-align: right;\">\n",
       "      <th></th>\n",
       "      <th>book_rank</th>\n",
       "      <th>book_poster</th>\n",
       "      <th>book_name</th>\n",
       "      <th>book_writer</th>\n",
       "      <th>book_rating</th>\n",
       "      <th>book_review</th>\n",
       "      <th>book_price</th>\n",
       "    </tr>\n",
       "  </thead>\n",
       "  <tbody>\n",
       "    <tr>\n",
       "      <th>0</th>\n",
       "      <td>1</td>\n",
       "      <td>https://images-eu.ssl-images-amazon.com/images...</td>\n",
       "      <td>Energize Your Mind: Learn the Art of Mastering...</td>\n",
       "      <td>Gaur Gopal Das</td>\n",
       "      <td>NaN</td>\n",
       "      <td>NaN</td>\n",
       "      <td>190.00</td>\n",
       "    </tr>\n",
       "    <tr>\n",
       "      <th>1</th>\n",
       "      <td>2</td>\n",
       "      <td>https://images-eu.ssl-images-amazon.com/images...</td>\n",
       "      <td>The Psychology of Money</td>\n",
       "      <td>Morgan Housel</td>\n",
       "      <td>4.6</td>\n",
       "      <td>45289.0</td>\n",
       "      <td>140.00</td>\n",
       "    </tr>\n",
       "    <tr>\n",
       "      <th>2</th>\n",
       "      <td>3</td>\n",
       "      <td>https://images-eu.ssl-images-amazon.com/images...</td>\n",
       "      <td>Ikigai: The Japanese secret to a long and happ...</td>\n",
       "      <td>Héctor García</td>\n",
       "      <td>4.6</td>\n",
       "      <td>40204.0</td>\n",
       "      <td>225.00</td>\n",
       "    </tr>\n",
       "    <tr>\n",
       "      <th>3</th>\n",
       "      <td>4</td>\n",
       "      <td>https://images-eu.ssl-images-amazon.com/images...</td>\n",
       "      <td>Doglapan: The Hard Truth about Life and Start-Ups</td>\n",
       "      <td>Ashneer Grover</td>\n",
       "      <td>4.3</td>\n",
       "      <td>394.0</td>\n",
       "      <td>239.50</td>\n",
       "    </tr>\n",
       "    <tr>\n",
       "      <th>4</th>\n",
       "      <td>5</td>\n",
       "      <td>https://images-eu.ssl-images-amazon.com/images...</td>\n",
       "      <td>Atomic Habits: The life-changing million copy ...</td>\n",
       "      <td>James Clear</td>\n",
       "      <td>4.6</td>\n",
       "      <td>61942.0</td>\n",
       "      <td>416.00</td>\n",
       "    </tr>\n",
       "    <tr>\n",
       "      <th>5</th>\n",
       "      <td>6</td>\n",
       "      <td>https://images-eu.ssl-images-amazon.com/images...</td>\n",
       "      <td>Rich Dad Poor Dad : What The Rich Teach Their ...</td>\n",
       "      <td>Robert T. Kiyosaki</td>\n",
       "      <td>4.5</td>\n",
       "      <td>14986.0</td>\n",
       "      <td>213.00</td>\n",
       "    </tr>\n",
       "    <tr>\n",
       "      <th>6</th>\n",
       "      <td>7</td>\n",
       "      <td>https://images-eu.ssl-images-amazon.com/images...</td>\n",
       "      <td>It Starts With Us</td>\n",
       "      <td>Colleen Hoover</td>\n",
       "      <td>4.4</td>\n",
       "      <td>59537.0</td>\n",
       "      <td>190.00</td>\n",
       "    </tr>\n",
       "    <tr>\n",
       "      <th>7</th>\n",
       "      <td>8</td>\n",
       "      <td>https://images-eu.ssl-images-amazon.com/images...</td>\n",
       "      <td>Oswaal CBSE English, Science, Social Science &amp;...</td>\n",
       "      <td>Oswaal Editorial Board</td>\n",
       "      <td>4.4</td>\n",
       "      <td>173.0</td>\n",
       "      <td>876.90</td>\n",
       "    </tr>\n",
       "    <tr>\n",
       "      <th>8</th>\n",
       "      <td>9</td>\n",
       "      <td>https://images-eu.ssl-images-amazon.com/images...</td>\n",
       "      <td>KVS PEDAGOGY MASTER BOOK (BILINGUAL) THEORY wi...</td>\n",
       "      <td>Rohit Vaidwan</td>\n",
       "      <td>NaN</td>\n",
       "      <td>NaN</td>\n",
       "      <td>425.00</td>\n",
       "    </tr>\n",
       "    <tr>\n",
       "      <th>9</th>\n",
       "      <td>10</td>\n",
       "      <td>https://images-eu.ssl-images-amazon.com/images...</td>\n",
       "      <td>Educart CBSE Class 10 Sample Paper 2023 Bundle...</td>\n",
       "      <td>Educart</td>\n",
       "      <td>4.3</td>\n",
       "      <td>213.0</td>\n",
       "      <td>640.00</td>\n",
       "    </tr>\n",
       "    <tr>\n",
       "      <th>10</th>\n",
       "      <td>11</td>\n",
       "      <td>https://images-eu.ssl-images-amazon.com/images...</td>\n",
       "      <td>BlackBook of General Awareness January 2023 by...</td>\n",
       "      <td>Nikhil kr Gupta</td>\n",
       "      <td>5.0</td>\n",
       "      <td>3.0</td>\n",
       "      <td>420.00</td>\n",
       "    </tr>\n",
       "    <tr>\n",
       "      <th>11</th>\n",
       "      <td>12</td>\n",
       "      <td>https://images-eu.ssl-images-amazon.com/images...</td>\n",
       "      <td>Life's Amazing Secrets: How to Find Balance an...</td>\n",
       "      <td>Gaur Gopal Das</td>\n",
       "      <td>4.6</td>\n",
       "      <td>18947.0</td>\n",
       "      <td>153.00</td>\n",
       "    </tr>\n",
       "    <tr>\n",
       "      <th>12</th>\n",
       "      <td>13</td>\n",
       "      <td>https://images-eu.ssl-images-amazon.com/images...</td>\n",
       "      <td>The Power of Your Subconscious Mind</td>\n",
       "      <td>Joseph Murphy</td>\n",
       "      <td>4.5</td>\n",
       "      <td>64843.0</td>\n",
       "      <td>105.00</td>\n",
       "    </tr>\n",
       "    <tr>\n",
       "      <th>13</th>\n",
       "      <td>14</td>\n",
       "      <td>https://images-eu.ssl-images-amazon.com/images...</td>\n",
       "      <td>Do It Today: Overcome Procrastination, Improve...</td>\n",
       "      <td>Darius Foroux</td>\n",
       "      <td>4.5</td>\n",
       "      <td>3601.0</td>\n",
       "      <td>98.00</td>\n",
       "    </tr>\n",
       "    <tr>\n",
       "      <th>14</th>\n",
       "      <td>15</td>\n",
       "      <td>https://images-eu.ssl-images-amazon.com/images...</td>\n",
       "      <td>My First Library: Boxset of 10 Board Books for...</td>\n",
       "      <td>Wonder House Books</td>\n",
       "      <td>4.5</td>\n",
       "      <td>65641.0</td>\n",
       "      <td>399.00</td>\n",
       "    </tr>\n",
       "    <tr>\n",
       "      <th>15</th>\n",
       "      <td>16</td>\n",
       "      <td>https://images-eu.ssl-images-amazon.com/images...</td>\n",
       "      <td>Examcart KVS PRT Pedagogy English Medium Textb...</td>\n",
       "      <td>Examcart Experts</td>\n",
       "      <td>4.6</td>\n",
       "      <td>24.0</td>\n",
       "      <td>164.00</td>\n",
       "    </tr>\n",
       "    <tr>\n",
       "      <th>16</th>\n",
       "      <td>17</td>\n",
       "      <td>https://images-eu.ssl-images-amazon.com/images...</td>\n",
       "      <td>Oswaal CBSE Sample Question Papers Class 10 Sc...</td>\n",
       "      <td>Oswaal Editorial Board</td>\n",
       "      <td>4.3</td>\n",
       "      <td>126.0</td>\n",
       "      <td>209.00</td>\n",
       "    </tr>\n",
       "    <tr>\n",
       "      <th>17</th>\n",
       "      <td>18</td>\n",
       "      <td>https://images-eu.ssl-images-amazon.com/images...</td>\n",
       "      <td>Indian Polity ( English| 6th Revised Edition) ...</td>\n",
       "      <td>M Laxmikanth</td>\n",
       "      <td>4.5</td>\n",
       "      <td>3425.0</td>\n",
       "      <td>599.00</td>\n",
       "    </tr>\n",
       "    <tr>\n",
       "      <th>18</th>\n",
       "      <td>19</td>\n",
       "      <td>https://images-eu.ssl-images-amazon.com/images...</td>\n",
       "      <td>Oswaal CBSE Sample Question Papers Class 10 Ma...</td>\n",
       "      <td>Oswaal Editorial Board</td>\n",
       "      <td>4.4</td>\n",
       "      <td>126.0</td>\n",
       "      <td>142.78</td>\n",
       "    </tr>\n",
       "    <tr>\n",
       "      <th>19</th>\n",
       "      <td>20</td>\n",
       "      <td>https://images-eu.ssl-images-amazon.com/images...</td>\n",
       "      <td>Grandma's Bag of Stories: Collection of 20+ Il...</td>\n",
       "      <td>Sudha Murty</td>\n",
       "      <td>4.6</td>\n",
       "      <td>17121.0</td>\n",
       "      <td>162.00</td>\n",
       "    </tr>\n",
       "    <tr>\n",
       "      <th>20</th>\n",
       "      <td>21</td>\n",
       "      <td>https://images-eu.ssl-images-amazon.com/images...</td>\n",
       "      <td>It Ends With Us: A Novel: Volume 1</td>\n",
       "      <td>Colleen Hoover</td>\n",
       "      <td>4.5</td>\n",
       "      <td>182939.0</td>\n",
       "      <td>275.00</td>\n",
       "    </tr>\n",
       "    <tr>\n",
       "      <th>21</th>\n",
       "      <td>22</td>\n",
       "      <td>https://images-eu.ssl-images-amazon.com/images...</td>\n",
       "      <td>Eat That Frog!: 21 Great Ways to Stop Procrast...</td>\n",
       "      <td>Brian Tracy</td>\n",
       "      <td>4.6</td>\n",
       "      <td>6883.0</td>\n",
       "      <td>169.00</td>\n",
       "    </tr>\n",
       "    <tr>\n",
       "      <th>22</th>\n",
       "      <td>23</td>\n",
       "      <td>https://images-eu.ssl-images-amazon.com/images...</td>\n",
       "      <td>The Power of Your Subconscious Mind</td>\n",
       "      <td>Joseph Murphy</td>\n",
       "      <td>4.5</td>\n",
       "      <td>64843.0</td>\n",
       "      <td>104.00</td>\n",
       "    </tr>\n",
       "    <tr>\n",
       "      <th>23</th>\n",
       "      <td>24</td>\n",
       "      <td>https://images-eu.ssl-images-amazon.com/images...</td>\n",
       "      <td>Brijbhoomi Books And Handicrafts® Bhagavad Git...</td>\n",
       "      <td>Brijbhoomi Books And Handicrafts</td>\n",
       "      <td>4.8</td>\n",
       "      <td>14575.0</td>\n",
       "      <td>195.00</td>\n",
       "    </tr>\n",
       "    <tr>\n",
       "      <th>24</th>\n",
       "      <td>25</td>\n",
       "      <td>https://images-eu.ssl-images-amazon.com/images...</td>\n",
       "      <td>DO EPIC SHIT</td>\n",
       "      <td>Ankur Warikoo</td>\n",
       "      <td>4.5</td>\n",
       "      <td>7838.0</td>\n",
       "      <td>160.00</td>\n",
       "    </tr>\n",
       "    <tr>\n",
       "      <th>25</th>\n",
       "      <td>26</td>\n",
       "      <td>https://images-eu.ssl-images-amazon.com/images...</td>\n",
       "      <td>Man's Search For Meaning: The classic tribute ...</td>\n",
       "      <td>Viktor E Frankl</td>\n",
       "      <td>4.5</td>\n",
       "      <td>51398.0</td>\n",
       "      <td>178.00</td>\n",
       "    </tr>\n",
       "    <tr>\n",
       "      <th>26</th>\n",
       "      <td>27</td>\n",
       "      <td>https://images-eu.ssl-images-amazon.com/images...</td>\n",
       "      <td>Get Epic Shit Done</td>\n",
       "      <td>Ankur Warikoo</td>\n",
       "      <td>4.2</td>\n",
       "      <td>157.0</td>\n",
       "      <td>318.00</td>\n",
       "    </tr>\n",
       "    <tr>\n",
       "      <th>27</th>\n",
       "      <td>28</td>\n",
       "      <td>https://images-eu.ssl-images-amazon.com/images...</td>\n",
       "      <td>Examcart KVS PRT Textbook Maths &amp; EVS Environm...</td>\n",
       "      <td>Examcart Experts</td>\n",
       "      <td>5.0</td>\n",
       "      <td>21.0</td>\n",
       "      <td>108.00</td>\n",
       "    </tr>\n",
       "    <tr>\n",
       "      <th>28</th>\n",
       "      <td>29</td>\n",
       "      <td>https://images-eu.ssl-images-amazon.com/images...</td>\n",
       "      <td>You Can</td>\n",
       "      <td>George Matthew Adams</td>\n",
       "      <td>4.3</td>\n",
       "      <td>2580.0</td>\n",
       "      <td>99.00</td>\n",
       "    </tr>\n",
       "    <tr>\n",
       "      <th>29</th>\n",
       "      <td>30</td>\n",
       "      <td>https://images-eu.ssl-images-amazon.com/images...</td>\n",
       "      <td>How to Win Friends and Influence People</td>\n",
       "      <td>Dale Carnegie</td>\n",
       "      <td>4.5</td>\n",
       "      <td>85472.0</td>\n",
       "      <td>27.00</td>\n",
       "    </tr>\n",
       "    <tr>\n",
       "      <th>30</th>\n",
       "      <td>31</td>\n",
       "      <td>https://images-eu.ssl-images-amazon.com/images...</td>\n",
       "      <td>The Almanack Of Naval Ravikant: A Guide to Wea...</td>\n",
       "      <td>Eric Jorgenson</td>\n",
       "      <td>4.7</td>\n",
       "      <td>11887.0</td>\n",
       "      <td>279.00</td>\n",
       "    </tr>\n",
       "    <tr>\n",
       "      <th>31</th>\n",
       "      <td>32</td>\n",
       "      <td>https://images-eu.ssl-images-amazon.com/images...</td>\n",
       "      <td>War of Lanka (Ram Chandra Series Book 4)</td>\n",
       "      <td>Amish Tripathi</td>\n",
       "      <td>4.3</td>\n",
       "      <td>2822.0</td>\n",
       "      <td>305.00</td>\n",
       "    </tr>\n",
       "    <tr>\n",
       "      <th>32</th>\n",
       "      <td>33</td>\n",
       "      <td>https://images-eu.ssl-images-amazon.com/images...</td>\n",
       "      <td>Oswaal CBSE Sample Question Papers Class 10 So...</td>\n",
       "      <td>Oswaal Editorial Board</td>\n",
       "      <td>4.6</td>\n",
       "      <td>83.0</td>\n",
       "      <td>225.00</td>\n",
       "    </tr>\n",
       "    <tr>\n",
       "      <th>33</th>\n",
       "      <td>34</td>\n",
       "      <td>https://images-eu.ssl-images-amazon.com/images...</td>\n",
       "      <td>Educart CBSE Class 10 SCIENCE Sample Papers 20...</td>\n",
       "      <td>Educart</td>\n",
       "      <td>4.4</td>\n",
       "      <td>93.0</td>\n",
       "      <td>150.30</td>\n",
       "    </tr>\n",
       "    <tr>\n",
       "      <th>34</th>\n",
       "      <td>35</td>\n",
       "      <td>https://images-eu.ssl-images-amazon.com/images...</td>\n",
       "      <td>Brain Activity Book for Kids - 200+ Activities...</td>\n",
       "      <td>Maple Press</td>\n",
       "      <td>4.5</td>\n",
       "      <td>2437.0</td>\n",
       "      <td>100.00</td>\n",
       "    </tr>\n",
       "    <tr>\n",
       "      <th>35</th>\n",
       "      <td>36</td>\n",
       "      <td>https://images-eu.ssl-images-amazon.com/images...</td>\n",
       "      <td>28 Years UPSC Civil Services IAS Prelims Topic...</td>\n",
       "      <td>Mrunal Patel</td>\n",
       "      <td>4.3</td>\n",
       "      <td>821.0</td>\n",
       "      <td>370.00</td>\n",
       "    </tr>\n",
       "    <tr>\n",
       "      <th>36</th>\n",
       "      <td>37</td>\n",
       "      <td>https://images-eu.ssl-images-amazon.com/images...</td>\n",
       "      <td>The Courage To Be Disliked: How to free yourse...</td>\n",
       "      <td>Ichiro Kishimi and Fumitake Koga</td>\n",
       "      <td>4.6</td>\n",
       "      <td>6752.0</td>\n",
       "      <td>311.00</td>\n",
       "    </tr>\n",
       "    <tr>\n",
       "      <th>37</th>\n",
       "      <td>38</td>\n",
       "      <td>https://images-eu.ssl-images-amazon.com/images...</td>\n",
       "      <td>UGC NET /SET/JRF Paper 1 Teaching and Research...</td>\n",
       "      <td>KVS Madaan</td>\n",
       "      <td>4.4</td>\n",
       "      <td>1055.0</td>\n",
       "      <td>295.00</td>\n",
       "    </tr>\n",
       "    <tr>\n",
       "      <th>38</th>\n",
       "      <td>39</td>\n",
       "      <td>https://images-eu.ssl-images-amazon.com/images...</td>\n",
       "      <td>Examcart KVS Study Guide Book For 2023 Exams i...</td>\n",
       "      <td>Examcart Experts</td>\n",
       "      <td>5.0</td>\n",
       "      <td>9.0</td>\n",
       "      <td>363.00</td>\n",
       "    </tr>\n",
       "    <tr>\n",
       "      <th>39</th>\n",
       "      <td>40</td>\n",
       "      <td>https://images-eu.ssl-images-amazon.com/images...</td>\n",
       "      <td>DEEP WORK: RULES FOR FOCUSED SUCCESS IN A DIST...</td>\n",
       "      <td>Cal Newport</td>\n",
       "      <td>4.5</td>\n",
       "      <td>15543.0</td>\n",
       "      <td>192.00</td>\n",
       "    </tr>\n",
       "    <tr>\n",
       "      <th>40</th>\n",
       "      <td>41</td>\n",
       "      <td>https://images-eu.ssl-images-amazon.com/images...</td>\n",
       "      <td>Educart CBSE Class 10 Final Revision Book for ...</td>\n",
       "      <td>Educart</td>\n",
       "      <td>4.3</td>\n",
       "      <td>176.0</td>\n",
       "      <td>457.00</td>\n",
       "    </tr>\n",
       "    <tr>\n",
       "      <th>41</th>\n",
       "      <td>42</td>\n",
       "      <td>https://images-eu.ssl-images-amazon.com/images...</td>\n",
       "      <td>The Boy, The Mole, The Fox and The Horse</td>\n",
       "      <td>Charlie Mackesy</td>\n",
       "      <td>4.8</td>\n",
       "      <td>63170.0</td>\n",
       "      <td>360.00</td>\n",
       "    </tr>\n",
       "    <tr>\n",
       "      <th>42</th>\n",
       "      <td>43</td>\n",
       "      <td>https://images-eu.ssl-images-amazon.com/images...</td>\n",
       "      <td>THE SILENT PATIENT</td>\n",
       "      <td>Alex Michaelides</td>\n",
       "      <td>4.5</td>\n",
       "      <td>138664.0</td>\n",
       "      <td>201.00</td>\n",
       "    </tr>\n",
       "    <tr>\n",
       "      <th>43</th>\n",
       "      <td>44</td>\n",
       "      <td>https://images-eu.ssl-images-amazon.com/images...</td>\n",
       "      <td>As a Man Thinketh</td>\n",
       "      <td>James Allen</td>\n",
       "      <td>4.4</td>\n",
       "      <td>10082.0</td>\n",
       "      <td>69.00</td>\n",
       "    </tr>\n",
       "    <tr>\n",
       "      <th>44</th>\n",
       "      <td>45</td>\n",
       "      <td>https://images-eu.ssl-images-amazon.com/images...</td>\n",
       "      <td>CBSE Physics Chapterwise Solved Papers Class 1...</td>\n",
       "      <td>SK Singh</td>\n",
       "      <td>4.2</td>\n",
       "      <td>132.0</td>\n",
       "      <td>191.00</td>\n",
       "    </tr>\n",
       "    <tr>\n",
       "      <th>45</th>\n",
       "      <td>46</td>\n",
       "      <td>https://images-eu.ssl-images-amazon.com/images...</td>\n",
       "      <td>The Subtle Art of Not Giving a F*ck: A Counter...</td>\n",
       "      <td>Mark Manson</td>\n",
       "      <td>4.5</td>\n",
       "      <td>81688.0</td>\n",
       "      <td>272.00</td>\n",
       "    </tr>\n",
       "    <tr>\n",
       "      <th>46</th>\n",
       "      <td>47</td>\n",
       "      <td>https://images-eu.ssl-images-amazon.com/images...</td>\n",
       "      <td>BlackBook of English Vocabulary January 2022</td>\n",
       "      <td>Nikhil K Gupta</td>\n",
       "      <td>4.5</td>\n",
       "      <td>957.0</td>\n",
       "      <td>237.00</td>\n",
       "    </tr>\n",
       "    <tr>\n",
       "      <th>47</th>\n",
       "      <td>48</td>\n",
       "      <td>https://images-eu.ssl-images-amazon.com/images...</td>\n",
       "      <td>Examcart KVS PRT Pedagogy Hindi Medium Textboo...</td>\n",
       "      <td>Examcart Experts</td>\n",
       "      <td>NaN</td>\n",
       "      <td>NaN</td>\n",
       "      <td>196.00</td>\n",
       "    </tr>\n",
       "    <tr>\n",
       "      <th>48</th>\n",
       "      <td>49</td>\n",
       "      <td>https://images-eu.ssl-images-amazon.com/images...</td>\n",
       "      <td>Oswaal CBSE Chapterwise &amp; Topicwise Question B...</td>\n",
       "      <td>Oswaal Editorial Board</td>\n",
       "      <td>4.4</td>\n",
       "      <td>684.0</td>\n",
       "      <td>465.00</td>\n",
       "    </tr>\n",
       "    <tr>\n",
       "      <th>49</th>\n",
       "      <td>50</td>\n",
       "      <td>https://images-eu.ssl-images-amazon.com/images...</td>\n",
       "      <td>Combo Books of \"It Starts With Us &amp; It Ends Wi...</td>\n",
       "      <td>Author Colleen Hoover</td>\n",
       "      <td>3.6</td>\n",
       "      <td>4.0</td>\n",
       "      <td>269.00</td>\n",
       "    </tr>\n",
       "  </tbody>\n",
       "</table>\n",
       "</div>"
      ],
      "text/plain": [
       "    book_rank                                        book_poster  \\\n",
       "0           1  https://images-eu.ssl-images-amazon.com/images...   \n",
       "1           2  https://images-eu.ssl-images-amazon.com/images...   \n",
       "2           3  https://images-eu.ssl-images-amazon.com/images...   \n",
       "3           4  https://images-eu.ssl-images-amazon.com/images...   \n",
       "4           5  https://images-eu.ssl-images-amazon.com/images...   \n",
       "5           6  https://images-eu.ssl-images-amazon.com/images...   \n",
       "6           7  https://images-eu.ssl-images-amazon.com/images...   \n",
       "7           8  https://images-eu.ssl-images-amazon.com/images...   \n",
       "8           9  https://images-eu.ssl-images-amazon.com/images...   \n",
       "9          10  https://images-eu.ssl-images-amazon.com/images...   \n",
       "10         11  https://images-eu.ssl-images-amazon.com/images...   \n",
       "11         12  https://images-eu.ssl-images-amazon.com/images...   \n",
       "12         13  https://images-eu.ssl-images-amazon.com/images...   \n",
       "13         14  https://images-eu.ssl-images-amazon.com/images...   \n",
       "14         15  https://images-eu.ssl-images-amazon.com/images...   \n",
       "15         16  https://images-eu.ssl-images-amazon.com/images...   \n",
       "16         17  https://images-eu.ssl-images-amazon.com/images...   \n",
       "17         18  https://images-eu.ssl-images-amazon.com/images...   \n",
       "18         19  https://images-eu.ssl-images-amazon.com/images...   \n",
       "19         20  https://images-eu.ssl-images-amazon.com/images...   \n",
       "20         21  https://images-eu.ssl-images-amazon.com/images...   \n",
       "21         22  https://images-eu.ssl-images-amazon.com/images...   \n",
       "22         23  https://images-eu.ssl-images-amazon.com/images...   \n",
       "23         24  https://images-eu.ssl-images-amazon.com/images...   \n",
       "24         25  https://images-eu.ssl-images-amazon.com/images...   \n",
       "25         26  https://images-eu.ssl-images-amazon.com/images...   \n",
       "26         27  https://images-eu.ssl-images-amazon.com/images...   \n",
       "27         28  https://images-eu.ssl-images-amazon.com/images...   \n",
       "28         29  https://images-eu.ssl-images-amazon.com/images...   \n",
       "29         30  https://images-eu.ssl-images-amazon.com/images...   \n",
       "30         31  https://images-eu.ssl-images-amazon.com/images...   \n",
       "31         32  https://images-eu.ssl-images-amazon.com/images...   \n",
       "32         33  https://images-eu.ssl-images-amazon.com/images...   \n",
       "33         34  https://images-eu.ssl-images-amazon.com/images...   \n",
       "34         35  https://images-eu.ssl-images-amazon.com/images...   \n",
       "35         36  https://images-eu.ssl-images-amazon.com/images...   \n",
       "36         37  https://images-eu.ssl-images-amazon.com/images...   \n",
       "37         38  https://images-eu.ssl-images-amazon.com/images...   \n",
       "38         39  https://images-eu.ssl-images-amazon.com/images...   \n",
       "39         40  https://images-eu.ssl-images-amazon.com/images...   \n",
       "40         41  https://images-eu.ssl-images-amazon.com/images...   \n",
       "41         42  https://images-eu.ssl-images-amazon.com/images...   \n",
       "42         43  https://images-eu.ssl-images-amazon.com/images...   \n",
       "43         44  https://images-eu.ssl-images-amazon.com/images...   \n",
       "44         45  https://images-eu.ssl-images-amazon.com/images...   \n",
       "45         46  https://images-eu.ssl-images-amazon.com/images...   \n",
       "46         47  https://images-eu.ssl-images-amazon.com/images...   \n",
       "47         48  https://images-eu.ssl-images-amazon.com/images...   \n",
       "48         49  https://images-eu.ssl-images-amazon.com/images...   \n",
       "49         50  https://images-eu.ssl-images-amazon.com/images...   \n",
       "\n",
       "                                            book_name  \\\n",
       "0   Energize Your Mind: Learn the Art of Mastering...   \n",
       "1                             The Psychology of Money   \n",
       "2   Ikigai: The Japanese secret to a long and happ...   \n",
       "3   Doglapan: The Hard Truth about Life and Start-Ups   \n",
       "4   Atomic Habits: The life-changing million copy ...   \n",
       "5   Rich Dad Poor Dad : What The Rich Teach Their ...   \n",
       "6                                   It Starts With Us   \n",
       "7   Oswaal CBSE English, Science, Social Science &...   \n",
       "8   KVS PEDAGOGY MASTER BOOK (BILINGUAL) THEORY wi...   \n",
       "9   Educart CBSE Class 10 Sample Paper 2023 Bundle...   \n",
       "10  BlackBook of General Awareness January 2023 by...   \n",
       "11  Life's Amazing Secrets: How to Find Balance an...   \n",
       "12                The Power of Your Subconscious Mind   \n",
       "13  Do It Today: Overcome Procrastination, Improve...   \n",
       "14  My First Library: Boxset of 10 Board Books for...   \n",
       "15  Examcart KVS PRT Pedagogy English Medium Textb...   \n",
       "16  Oswaal CBSE Sample Question Papers Class 10 Sc...   \n",
       "17  Indian Polity ( English| 6th Revised Edition) ...   \n",
       "18  Oswaal CBSE Sample Question Papers Class 10 Ma...   \n",
       "19  Grandma's Bag of Stories: Collection of 20+ Il...   \n",
       "20                 It Ends With Us: A Novel: Volume 1   \n",
       "21  Eat That Frog!: 21 Great Ways to Stop Procrast...   \n",
       "22                The Power of Your Subconscious Mind   \n",
       "23  Brijbhoomi Books And Handicrafts® Bhagavad Git...   \n",
       "24                                       DO EPIC SHIT   \n",
       "25  Man's Search For Meaning: The classic tribute ...   \n",
       "26                                 Get Epic Shit Done   \n",
       "27  Examcart KVS PRT Textbook Maths & EVS Environm...   \n",
       "28                                            You Can   \n",
       "29            How to Win Friends and Influence People   \n",
       "30  The Almanack Of Naval Ravikant: A Guide to Wea...   \n",
       "31           War of Lanka (Ram Chandra Series Book 4)   \n",
       "32  Oswaal CBSE Sample Question Papers Class 10 So...   \n",
       "33  Educart CBSE Class 10 SCIENCE Sample Papers 20...   \n",
       "34  Brain Activity Book for Kids - 200+ Activities...   \n",
       "35  28 Years UPSC Civil Services IAS Prelims Topic...   \n",
       "36  The Courage To Be Disliked: How to free yourse...   \n",
       "37  UGC NET /SET/JRF Paper 1 Teaching and Research...   \n",
       "38  Examcart KVS Study Guide Book For 2023 Exams i...   \n",
       "39  DEEP WORK: RULES FOR FOCUSED SUCCESS IN A DIST...   \n",
       "40  Educart CBSE Class 10 Final Revision Book for ...   \n",
       "41           The Boy, The Mole, The Fox and The Horse   \n",
       "42                                 THE SILENT PATIENT   \n",
       "43                                  As a Man Thinketh   \n",
       "44  CBSE Physics Chapterwise Solved Papers Class 1...   \n",
       "45  The Subtle Art of Not Giving a F*ck: A Counter...   \n",
       "46       BlackBook of English Vocabulary January 2022   \n",
       "47  Examcart KVS PRT Pedagogy Hindi Medium Textboo...   \n",
       "48  Oswaal CBSE Chapterwise & Topicwise Question B...   \n",
       "49  Combo Books of \"It Starts With Us & It Ends Wi...   \n",
       "\n",
       "                         book_writer  book_rating  book_review  book_price  \n",
       "0                     Gaur Gopal Das          NaN          NaN      190.00  \n",
       "1                      Morgan Housel          4.6      45289.0      140.00  \n",
       "2                      Héctor García          4.6      40204.0      225.00  \n",
       "3                     Ashneer Grover          4.3        394.0      239.50  \n",
       "4                        James Clear          4.6      61942.0      416.00  \n",
       "5                 Robert T. Kiyosaki          4.5      14986.0      213.00  \n",
       "6                     Colleen Hoover          4.4      59537.0      190.00  \n",
       "7             Oswaal Editorial Board          4.4        173.0      876.90  \n",
       "8                      Rohit Vaidwan          NaN          NaN      425.00  \n",
       "9                            Educart          4.3        213.0      640.00  \n",
       "10                   Nikhil kr Gupta          5.0          3.0      420.00  \n",
       "11                    Gaur Gopal Das          4.6      18947.0      153.00  \n",
       "12                     Joseph Murphy          4.5      64843.0      105.00  \n",
       "13                     Darius Foroux          4.5       3601.0       98.00  \n",
       "14                Wonder House Books          4.5      65641.0      399.00  \n",
       "15                  Examcart Experts          4.6         24.0      164.00  \n",
       "16            Oswaal Editorial Board          4.3        126.0      209.00  \n",
       "17                      M Laxmikanth          4.5       3425.0      599.00  \n",
       "18            Oswaal Editorial Board          4.4        126.0      142.78  \n",
       "19                       Sudha Murty          4.6      17121.0      162.00  \n",
       "20                    Colleen Hoover          4.5     182939.0      275.00  \n",
       "21                       Brian Tracy          4.6       6883.0      169.00  \n",
       "22                     Joseph Murphy          4.5      64843.0      104.00  \n",
       "23  Brijbhoomi Books And Handicrafts          4.8      14575.0      195.00  \n",
       "24                     Ankur Warikoo          4.5       7838.0      160.00  \n",
       "25                   Viktor E Frankl          4.5      51398.0      178.00  \n",
       "26                     Ankur Warikoo          4.2        157.0      318.00  \n",
       "27                  Examcart Experts          5.0         21.0      108.00  \n",
       "28              George Matthew Adams          4.3       2580.0       99.00  \n",
       "29                     Dale Carnegie          4.5      85472.0       27.00  \n",
       "30                    Eric Jorgenson          4.7      11887.0      279.00  \n",
       "31                    Amish Tripathi          4.3       2822.0      305.00  \n",
       "32            Oswaal Editorial Board          4.6         83.0      225.00  \n",
       "33                           Educart          4.4         93.0      150.30  \n",
       "34                       Maple Press          4.5       2437.0      100.00  \n",
       "35                      Mrunal Patel          4.3        821.0      370.00  \n",
       "36  Ichiro Kishimi and Fumitake Koga          4.6       6752.0      311.00  \n",
       "37                        KVS Madaan          4.4       1055.0      295.00  \n",
       "38                  Examcart Experts          5.0          9.0      363.00  \n",
       "39                       Cal Newport          4.5      15543.0      192.00  \n",
       "40                           Educart          4.3        176.0      457.00  \n",
       "41                   Charlie Mackesy          4.8      63170.0      360.00  \n",
       "42                  Alex Michaelides          4.5     138664.0      201.00  \n",
       "43                       James Allen          4.4      10082.0       69.00  \n",
       "44                          SK Singh          4.2        132.0      191.00  \n",
       "45                       Mark Manson          4.5      81688.0      272.00  \n",
       "46                    Nikhil K Gupta          4.5        957.0      237.00  \n",
       "47                  Examcart Experts          NaN          NaN      196.00  \n",
       "48            Oswaal Editorial Board          4.4        684.0      465.00  \n",
       "49             Author Colleen Hoover          3.6          4.0      269.00  "
      ]
     },
     "execution_count": 81,
     "metadata": {},
     "output_type": "execute_result"
    }
   ],
   "source": [
    "pd.read_csv('amazon_bestseller_books.csv')"
   ]
  },
  {
   "cell_type": "code",
   "execution_count": 82,
   "metadata": {},
   "outputs": [],
   "source": [
    "scrape_amazon_books(2,'amazon_bestseller_books2.csv')"
   ]
  },
  {
   "cell_type": "code",
   "execution_count": 83,
   "metadata": {
    "scrolled": false
   },
   "outputs": [
    {
     "data": {
      "text/html": [
       "<div>\n",
       "<style scoped>\n",
       "    .dataframe tbody tr th:only-of-type {\n",
       "        vertical-align: middle;\n",
       "    }\n",
       "\n",
       "    .dataframe tbody tr th {\n",
       "        vertical-align: top;\n",
       "    }\n",
       "\n",
       "    .dataframe thead th {\n",
       "        text-align: right;\n",
       "    }\n",
       "</style>\n",
       "<table border=\"1\" class=\"dataframe\">\n",
       "  <thead>\n",
       "    <tr style=\"text-align: right;\">\n",
       "      <th></th>\n",
       "      <th>book_rank</th>\n",
       "      <th>book_poster</th>\n",
       "      <th>book_name</th>\n",
       "      <th>book_writer</th>\n",
       "      <th>book_rating</th>\n",
       "      <th>book_review</th>\n",
       "      <th>book_price</th>\n",
       "    </tr>\n",
       "  </thead>\n",
       "  <tbody>\n",
       "    <tr>\n",
       "      <th>0</th>\n",
       "      <td>1</td>\n",
       "      <td>https://images-eu.ssl-images-amazon.com/images...</td>\n",
       "      <td>Energize Your Mind: Learn the Art of Mastering...</td>\n",
       "      <td>Gaur Gopal Das</td>\n",
       "      <td>NaN</td>\n",
       "      <td>NaN</td>\n",
       "      <td>190.0</td>\n",
       "    </tr>\n",
       "    <tr>\n",
       "      <th>1</th>\n",
       "      <td>2</td>\n",
       "      <td>https://images-eu.ssl-images-amazon.com/images...</td>\n",
       "      <td>The Psychology of Money</td>\n",
       "      <td>Morgan Housel</td>\n",
       "      <td>4.6</td>\n",
       "      <td>45289.0</td>\n",
       "      <td>140.0</td>\n",
       "    </tr>\n",
       "    <tr>\n",
       "      <th>2</th>\n",
       "      <td>3</td>\n",
       "      <td>https://images-eu.ssl-images-amazon.com/images...</td>\n",
       "      <td>Ikigai: The Japanese secret to a long and happ...</td>\n",
       "      <td>Héctor García</td>\n",
       "      <td>4.6</td>\n",
       "      <td>40204.0</td>\n",
       "      <td>225.0</td>\n",
       "    </tr>\n",
       "    <tr>\n",
       "      <th>3</th>\n",
       "      <td>4</td>\n",
       "      <td>https://images-eu.ssl-images-amazon.com/images...</td>\n",
       "      <td>Doglapan: The Hard Truth about Life and Start-Ups</td>\n",
       "      <td>Ashneer Grover</td>\n",
       "      <td>4.3</td>\n",
       "      <td>394.0</td>\n",
       "      <td>239.5</td>\n",
       "    </tr>\n",
       "    <tr>\n",
       "      <th>4</th>\n",
       "      <td>5</td>\n",
       "      <td>https://images-eu.ssl-images-amazon.com/images...</td>\n",
       "      <td>Atomic Habits: The life-changing million copy ...</td>\n",
       "      <td>James Clear</td>\n",
       "      <td>4.6</td>\n",
       "      <td>61942.0</td>\n",
       "      <td>416.0</td>\n",
       "    </tr>\n",
       "    <tr>\n",
       "      <th>...</th>\n",
       "      <td>...</td>\n",
       "      <td>...</td>\n",
       "      <td>...</td>\n",
       "      <td>...</td>\n",
       "      <td>...</td>\n",
       "      <td>...</td>\n",
       "      <td>...</td>\n",
       "    </tr>\n",
       "    <tr>\n",
       "      <th>95</th>\n",
       "      <td>96</td>\n",
       "      <td>https://images-eu.ssl-images-amazon.com/images...</td>\n",
       "      <td>Oswaal CBSE Sample Question Papers Class 12 Ph...</td>\n",
       "      <td>Oswaal Editorial Board</td>\n",
       "      <td>4.3</td>\n",
       "      <td>60.0</td>\n",
       "      <td>230.0</td>\n",
       "    </tr>\n",
       "    <tr>\n",
       "      <th>96</th>\n",
       "      <td>97</td>\n",
       "      <td>https://images-eu.ssl-images-amazon.com/images...</td>\n",
       "      <td>Shivdas CBSE Past 7 Years Board Papers + 5 Sam...</td>\n",
       "      <td>Shivdas Editorial</td>\n",
       "      <td>4.9</td>\n",
       "      <td>56.0</td>\n",
       "      <td>113.0</td>\n",
       "    </tr>\n",
       "    <tr>\n",
       "      <th>97</th>\n",
       "      <td>98</td>\n",
       "      <td>https://images-eu.ssl-images-amazon.com/images...</td>\n",
       "      <td>Build, Don't Talk: Things You Wish You Were Ta...</td>\n",
       "      <td>Raj Shamani</td>\n",
       "      <td>4.4</td>\n",
       "      <td>137.0</td>\n",
       "      <td>172.0</td>\n",
       "    </tr>\n",
       "    <tr>\n",
       "      <th>98</th>\n",
       "      <td>99</td>\n",
       "      <td>https://images-eu.ssl-images-amazon.com/images...</td>\n",
       "      <td>The Rudest Book Ever: Powerful Perspectives to...</td>\n",
       "      <td>Shwetabh Gangwar</td>\n",
       "      <td>4.4</td>\n",
       "      <td>7670.0</td>\n",
       "      <td>235.0</td>\n",
       "    </tr>\n",
       "    <tr>\n",
       "      <th>99</th>\n",
       "      <td>100</td>\n",
       "      <td>https://images-eu.ssl-images-amazon.com/images...</td>\n",
       "      <td>The Complete Novels of Sherlock Holmes</td>\n",
       "      <td>Arthur Conan Doyle</td>\n",
       "      <td>4.5</td>\n",
       "      <td>15608.0</td>\n",
       "      <td>137.0</td>\n",
       "    </tr>\n",
       "  </tbody>\n",
       "</table>\n",
       "<p>100 rows × 7 columns</p>\n",
       "</div>"
      ],
      "text/plain": [
       "    book_rank                                        book_poster  \\\n",
       "0           1  https://images-eu.ssl-images-amazon.com/images...   \n",
       "1           2  https://images-eu.ssl-images-amazon.com/images...   \n",
       "2           3  https://images-eu.ssl-images-amazon.com/images...   \n",
       "3           4  https://images-eu.ssl-images-amazon.com/images...   \n",
       "4           5  https://images-eu.ssl-images-amazon.com/images...   \n",
       "..        ...                                                ...   \n",
       "95         96  https://images-eu.ssl-images-amazon.com/images...   \n",
       "96         97  https://images-eu.ssl-images-amazon.com/images...   \n",
       "97         98  https://images-eu.ssl-images-amazon.com/images...   \n",
       "98         99  https://images-eu.ssl-images-amazon.com/images...   \n",
       "99        100  https://images-eu.ssl-images-amazon.com/images...   \n",
       "\n",
       "                                            book_name             book_writer  \\\n",
       "0   Energize Your Mind: Learn the Art of Mastering...          Gaur Gopal Das   \n",
       "1                             The Psychology of Money           Morgan Housel   \n",
       "2   Ikigai: The Japanese secret to a long and happ...           Héctor García   \n",
       "3   Doglapan: The Hard Truth about Life and Start-Ups          Ashneer Grover   \n",
       "4   Atomic Habits: The life-changing million copy ...             James Clear   \n",
       "..                                                ...                     ...   \n",
       "95  Oswaal CBSE Sample Question Papers Class 12 Ph...  Oswaal Editorial Board   \n",
       "96  Shivdas CBSE Past 7 Years Board Papers + 5 Sam...       Shivdas Editorial   \n",
       "97  Build, Don't Talk: Things You Wish You Were Ta...             Raj Shamani   \n",
       "98  The Rudest Book Ever: Powerful Perspectives to...        Shwetabh Gangwar   \n",
       "99             The Complete Novels of Sherlock Holmes      Arthur Conan Doyle   \n",
       "\n",
       "    book_rating  book_review  book_price  \n",
       "0           NaN          NaN       190.0  \n",
       "1           4.6      45289.0       140.0  \n",
       "2           4.6      40204.0       225.0  \n",
       "3           4.3        394.0       239.5  \n",
       "4           4.6      61942.0       416.0  \n",
       "..          ...          ...         ...  \n",
       "95          4.3         60.0       230.0  \n",
       "96          4.9         56.0       113.0  \n",
       "97          4.4        137.0       172.0  \n",
       "98          4.4       7670.0       235.0  \n",
       "99          4.5      15608.0       137.0  \n",
       "\n",
       "[100 rows x 7 columns]"
      ]
     },
     "execution_count": 83,
     "metadata": {},
     "output_type": "execute_result"
    }
   ],
   "source": [
    "pd.read_csv('amazon_bestseller_books2.csv')"
   ]
  },
  {
   "cell_type": "code",
   "execution_count": 84,
   "metadata": {},
   "outputs": [],
   "source": [
    "scrape_amazon_books(4,'amazon_bestseller_books3.csv')"
   ]
  },
  {
   "cell_type": "code",
   "execution_count": 85,
   "metadata": {},
   "outputs": [
    {
     "data": {
      "text/html": [
       "<div>\n",
       "<style scoped>\n",
       "    .dataframe tbody tr th:only-of-type {\n",
       "        vertical-align: middle;\n",
       "    }\n",
       "\n",
       "    .dataframe tbody tr th {\n",
       "        vertical-align: top;\n",
       "    }\n",
       "\n",
       "    .dataframe thead th {\n",
       "        text-align: right;\n",
       "    }\n",
       "</style>\n",
       "<table border=\"1\" class=\"dataframe\">\n",
       "  <thead>\n",
       "    <tr style=\"text-align: right;\">\n",
       "      <th></th>\n",
       "      <th>book_rank</th>\n",
       "      <th>book_poster</th>\n",
       "      <th>book_name</th>\n",
       "      <th>book_writer</th>\n",
       "      <th>book_rating</th>\n",
       "      <th>book_review</th>\n",
       "      <th>book_price</th>\n",
       "    </tr>\n",
       "  </thead>\n",
       "  <tbody>\n",
       "    <tr>\n",
       "      <th>0</th>\n",
       "      <td>1</td>\n",
       "      <td>https://images-eu.ssl-images-amazon.com/images...</td>\n",
       "      <td>Energize Your Mind: Learn the Art of Mastering...</td>\n",
       "      <td>Gaur Gopal Das</td>\n",
       "      <td>NaN</td>\n",
       "      <td>NaN</td>\n",
       "      <td>190.00</td>\n",
       "    </tr>\n",
       "    <tr>\n",
       "      <th>1</th>\n",
       "      <td>2</td>\n",
       "      <td>https://images-eu.ssl-images-amazon.com/images...</td>\n",
       "      <td>The Psychology of Money</td>\n",
       "      <td>Morgan Housel</td>\n",
       "      <td>4.6</td>\n",
       "      <td>45289.0</td>\n",
       "      <td>140.00</td>\n",
       "    </tr>\n",
       "    <tr>\n",
       "      <th>2</th>\n",
       "      <td>3</td>\n",
       "      <td>https://images-eu.ssl-images-amazon.com/images...</td>\n",
       "      <td>Ikigai: The Japanese secret to a long and happ...</td>\n",
       "      <td>Héctor García</td>\n",
       "      <td>4.6</td>\n",
       "      <td>40204.0</td>\n",
       "      <td>225.00</td>\n",
       "    </tr>\n",
       "    <tr>\n",
       "      <th>3</th>\n",
       "      <td>4</td>\n",
       "      <td>https://images-eu.ssl-images-amazon.com/images...</td>\n",
       "      <td>Doglapan: The Hard Truth about Life and Start-Ups</td>\n",
       "      <td>Ashneer Grover</td>\n",
       "      <td>4.3</td>\n",
       "      <td>394.0</td>\n",
       "      <td>239.50</td>\n",
       "    </tr>\n",
       "    <tr>\n",
       "      <th>4</th>\n",
       "      <td>5</td>\n",
       "      <td>https://images-eu.ssl-images-amazon.com/images...</td>\n",
       "      <td>Atomic Habits: The life-changing million copy ...</td>\n",
       "      <td>James Clear</td>\n",
       "      <td>4.6</td>\n",
       "      <td>61942.0</td>\n",
       "      <td>416.00</td>\n",
       "    </tr>\n",
       "    <tr>\n",
       "      <th>...</th>\n",
       "      <td>...</td>\n",
       "      <td>...</td>\n",
       "      <td>...</td>\n",
       "      <td>...</td>\n",
       "      <td>...</td>\n",
       "      <td>...</td>\n",
       "      <td>...</td>\n",
       "    </tr>\n",
       "    <tr>\n",
       "      <th>195</th>\n",
       "      <td>196</td>\n",
       "      <td>https://images-eu.ssl-images-amazon.com/images...</td>\n",
       "      <td>The Diary of a Young Girl</td>\n",
       "      <td>Anne Frank</td>\n",
       "      <td>4.6</td>\n",
       "      <td>30149.0</td>\n",
       "      <td>94.99</td>\n",
       "    </tr>\n",
       "    <tr>\n",
       "      <th>196</th>\n",
       "      <td>197</td>\n",
       "      <td>https://images-eu.ssl-images-amazon.com/images...</td>\n",
       "      <td>The Answer Writing Manual for UPSC Civil Servi...</td>\n",
       "      <td>Srushti Deshmukh Gowda IAS</td>\n",
       "      <td>4.6</td>\n",
       "      <td>1714.0</td>\n",
       "      <td>335.49</td>\n",
       "    </tr>\n",
       "    <tr>\n",
       "      <th>197</th>\n",
       "      <td>198</td>\n",
       "      <td>https://images-eu.ssl-images-amazon.com/images...</td>\n",
       "      <td>Oswaal CBSE Sample Paper Class 10 Mathematics ...</td>\n",
       "      <td>Oswaal Editorial Board</td>\n",
       "      <td>4.8</td>\n",
       "      <td>42.0</td>\n",
       "      <td>200.00</td>\n",
       "    </tr>\n",
       "    <tr>\n",
       "      <th>198</th>\n",
       "      <td>199</td>\n",
       "      <td>https://images-eu.ssl-images-amazon.com/images...</td>\n",
       "      <td>Lucent's General Knowledge - 2023/Edn. - Engli...</td>\n",
       "      <td>Dr. Binay Karna</td>\n",
       "      <td>5.0</td>\n",
       "      <td>1.0</td>\n",
       "      <td>203.00</td>\n",
       "    </tr>\n",
       "    <tr>\n",
       "      <th>199</th>\n",
       "      <td>200</td>\n",
       "      <td>https://images-eu.ssl-images-amazon.com/images...</td>\n",
       "      <td>The Theory Of Everything</td>\n",
       "      <td>Stephen Hawking</td>\n",
       "      <td>4.6</td>\n",
       "      <td>12424.0</td>\n",
       "      <td>135.00</td>\n",
       "    </tr>\n",
       "  </tbody>\n",
       "</table>\n",
       "<p>200 rows × 7 columns</p>\n",
       "</div>"
      ],
      "text/plain": [
       "     book_rank                                        book_poster  \\\n",
       "0            1  https://images-eu.ssl-images-amazon.com/images...   \n",
       "1            2  https://images-eu.ssl-images-amazon.com/images...   \n",
       "2            3  https://images-eu.ssl-images-amazon.com/images...   \n",
       "3            4  https://images-eu.ssl-images-amazon.com/images...   \n",
       "4            5  https://images-eu.ssl-images-amazon.com/images...   \n",
       "..         ...                                                ...   \n",
       "195        196  https://images-eu.ssl-images-amazon.com/images...   \n",
       "196        197  https://images-eu.ssl-images-amazon.com/images...   \n",
       "197        198  https://images-eu.ssl-images-amazon.com/images...   \n",
       "198        199  https://images-eu.ssl-images-amazon.com/images...   \n",
       "199        200  https://images-eu.ssl-images-amazon.com/images...   \n",
       "\n",
       "                                             book_name  \\\n",
       "0    Energize Your Mind: Learn the Art of Mastering...   \n",
       "1                              The Psychology of Money   \n",
       "2    Ikigai: The Japanese secret to a long and happ...   \n",
       "3    Doglapan: The Hard Truth about Life and Start-Ups   \n",
       "4    Atomic Habits: The life-changing million copy ...   \n",
       "..                                                 ...   \n",
       "195                          The Diary of a Young Girl   \n",
       "196  The Answer Writing Manual for UPSC Civil Servi...   \n",
       "197  Oswaal CBSE Sample Paper Class 10 Mathematics ...   \n",
       "198  Lucent's General Knowledge - 2023/Edn. - Engli...   \n",
       "199                           The Theory Of Everything   \n",
       "\n",
       "                    book_writer  book_rating  book_review book_price  \n",
       "0                Gaur Gopal Das          NaN          NaN     190.00  \n",
       "1                 Morgan Housel          4.6      45289.0     140.00  \n",
       "2                 Héctor García          4.6      40204.0     225.00  \n",
       "3                Ashneer Grover          4.3        394.0     239.50  \n",
       "4                   James Clear          4.6      61942.0     416.00  \n",
       "..                          ...          ...          ...        ...  \n",
       "195                  Anne Frank          4.6      30149.0      94.99  \n",
       "196  Srushti Deshmukh Gowda IAS          4.6       1714.0     335.49  \n",
       "197      Oswaal Editorial Board          4.8         42.0     200.00  \n",
       "198             Dr. Binay Karna          5.0          1.0     203.00  \n",
       "199             Stephen Hawking          4.6      12424.0     135.00  \n",
       "\n",
       "[200 rows x 7 columns]"
      ]
     },
     "execution_count": 85,
     "metadata": {},
     "output_type": "execute_result"
    }
   ],
   "source": [
    "pd.read_csv('amazon_bestseller_books3.csv')"
   ]
  },
  {
   "cell_type": "markdown",
   "metadata": {},
   "source": [
    "# **Summary**\n",
    "\n",
    "1. The Scraping was done using Python libraries such as Requests, BEautifulSoup for extracting the data\n",
    "2. Scraping Top 2000 books and their details from 4 different pages on Amazon.in/books/bestseller website like Book Rank, Book 3. Name, Book Writer, Book Ratings,Total Reviews of the book , and Price of the book.\n",
    "4. Parsed all the scraped data into a csv file containing 50 rows and 7 columns for each c page and a total of 2000 rows and 7  columns."
   ]
  },
  {
   "cell_type": "markdown",
   "metadata": {},
   "source": [
    "# **Future work**\n",
    "\n",
    "- Extracting more categories of the boooks.\n",
    "- Code optimization for better visuals and understanding.\n",
    "- Improving the documentation part of the project to make it readable"
   ]
  },
  {
   "cell_type": "markdown",
   "metadata": {},
   "source": [
    "# **References**\n",
    "\n",
    "1. https://www.amazon.in/gp/bestsellers/books/?ie=UTF8&ref_=sv_ba_3\n",
    "\n",
    "2. https://jovian.ai/learn/zero-to-data-analyst-bootcamp/lesson/web-scraping-and-rest-apis\n",
    "\n",
    "3. Slack Workgroup for General Discussions"
   ]
  },
  {
   "cell_type": "code",
   "execution_count": 87,
   "metadata": {},
   "outputs": [
    {
     "data": {
      "application/javascript": [
       "window.require && require([\"base/js/namespace\"],function(Jupyter){Jupyter.notebook.save_checkpoint()})"
      ],
      "text/plain": [
       "<IPython.core.display.Javascript object>"
      ]
     },
     "metadata": {},
     "output_type": "display_data"
    },
    {
     "name": "stdout",
     "output_type": "stream",
     "text": [
      "[jovian] Updating notebook \"ghost-smith9557/myproject\" on https://jovian.ai\u001b[0m\n",
      "[jovian] Uploading additional files...\u001b[0m\n",
      "[jovian] Committed successfully! https://jovian.ai/ghost-smith9557/myproject\u001b[0m\n"
     ]
    },
    {
     "data": {
      "text/plain": [
       "'https://jovian.ai/ghost-smith9557/myproject'"
      ]
     },
     "execution_count": 87,
     "metadata": {},
     "output_type": "execute_result"
    }
   ],
   "source": [
    "jovian.commit(project=\"myproject\", files=['amazon_bestseller_books.csv','amazon_bestseller_books2.csv','amazon_bestseller_books3.csv'])"
   ]
  },
  {
   "cell_type": "code",
   "execution_count": null,
   "metadata": {},
   "outputs": [],
   "source": []
  }
 ],
 "metadata": {
  "celltoolbar": "Raw Cell Format",
  "kernelspec": {
   "display_name": "Python 3 (ipykernel)",
   "language": "python",
   "name": "python3"
  },
  "language_info": {
   "codemirror_mode": {
    "name": "ipython",
    "version": 3
   },
   "file_extension": ".py",
   "mimetype": "text/x-python",
   "name": "python",
   "nbconvert_exporter": "python",
   "pygments_lexer": "ipython3",
   "version": "3.9.7"
  }
 },
 "nbformat": 4,
 "nbformat_minor": 2
}
